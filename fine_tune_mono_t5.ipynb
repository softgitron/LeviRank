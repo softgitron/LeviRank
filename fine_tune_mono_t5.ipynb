{
  "nbformat": 4,
  "nbformat_minor": 0,
  "metadata": {
    "colab": {
      "name": "fine tune_mono_t5.ipynb",
      "provenance": [],
      "collapsed_sections": []
    },
    "kernelspec": {
      "name": "python3",
      "display_name": "Python 3"
    },
    "language_info": {
      "name": "python"
    },
    "accelerator": "GPU"
  },
  "cells": [
    {
      "cell_type": "code",
      "source": [
        "!pip install pygaggle==0.0.2\n",
        "!pip install transformers==4.17.0\n",
        "!pip install jsonlines"
      ],
      "metadata": {
        "id": "KnpPr3K3OlaA"
      },
      "execution_count": null,
      "outputs": []
    },
    {
      "cell_type": "code",
      "source": [
        "import os\n",
        "import json\n",
        "import pickle\n",
        "import numpy as np\n",
        "import pandas as pd\n",
        "from tqdm.auto import tqdm\n",
        "import torch\n",
        "from torch.utils.data import Dataset\n",
        "import jsonlines\n",
        "import argparse\n",
        "import transformers\n",
        "import pygaggle\n",
        "from pygaggle.rerank.transformer import MonoT5\n",
        "from transformers import (\n",
        "    AutoTokenizer,\n",
        "    AutoConfig,\n",
        "    AutoModelForSequenceClassification,\n",
        "    AutoModelForSeq2SeqLM,\n",
        "    Seq2SeqTrainer,\n",
        "    Seq2SeqTrainingArguments,\n",
        "    DataCollatorForSeq2Seq,\n",
        "    TrainerCallback,\n",
        ")"
      ],
      "metadata": {
        "id": "ml12vJf2KUEt"
      },
      "execution_count": null,
      "outputs": []
    },
    {
      "cell_type": "code",
      "execution_count": null,
      "metadata": {
        "colab": {
          "base_uri": "https://localhost:8080/"
        },
        "id": "jzs3DB1WKM9R",
        "outputId": "756908d0-73e7-4ad9-f8c0-0806a84f3ecc"
      },
      "outputs": [
        {
          "output_type": "stream",
          "name": "stdout",
          "text": [
            "Overwriting fine_tune.py\n"
          ]
        }
      ],
      "source": [
        "#python file to fine tune the mono T5 Model\n",
        "%%writefile fine_tune.py\n",
        "import os\n",
        "import json\n",
        "import pickle\n",
        "import numpy as np\n",
        "import pandas as pd\n",
        "from tqdm.auto import tqdm\n",
        "import torch\n",
        "from torch.utils.data import Dataset\n",
        "import jsonlines\n",
        "import argparse\n",
        "import transformers\n",
        "import pygaggle\n",
        "from pygaggle.rerank.transformer import MonoT5\n",
        "from transformers import (\n",
        "    AutoTokenizer,\n",
        "    AutoConfig,\n",
        "    AutoModelForSequenceClassification,\n",
        "    AutoModelForSeq2SeqLM,\n",
        "    Seq2SeqTrainer,\n",
        "    Seq2SeqTrainingArguments,\n",
        "    DataCollatorForSeq2Seq,\n",
        "    TrainerCallback,\n",
        ")\n",
        "\n",
        "\n",
        "class MonoT5Dataset(Dataset):\n",
        "  def __init__(self, data):\n",
        "    self.data = data\n",
        "\n",
        "  def __len__(self):\n",
        "    return len(self.data)\n",
        "\n",
        "  def __getitem__(self, idx):\n",
        "    sample = self.data[idx]\n",
        "    text = f'Query: {sample[0]} Document: {sample[1]} Relevant:'\n",
        "    return {\n",
        "      'text': text,\n",
        "      'labels': sample[2],\n",
        "    }\n",
        "\n",
        "def main():\n",
        "  parser = argparse.ArgumentParser()\n",
        "  parser.add_argument(\"--base_model\", default='castorini/monot5-base-msmarco', type=str, required=False,\n",
        "                      help=\"Base model to fine tune.\")\n",
        "  parser.add_argument(\"--triples_path\", default=None, type=str, required=True,\n",
        "                      help=\"Triples.tsv path\")\n",
        "  parser.add_argument(\"--output_model_path\", default=None, type=str, required=True,\n",
        "                      help=\"Path for trained model and checkpoints.\")\n",
        "  parser.add_argument(\"--save_every_n_steps\", default=0, type=int, required=False,\n",
        "                      help=\"Save every N steps. (recommended 10000)\")\n",
        "  parser.add_argument(\"--logging_steps\", default=100, type=int, required=False,\n",
        "                      help=\"Logging steps parameter.\")\n",
        "  parser.add_argument(\"--per_device_train_batch_size\", default=8, type=int, required=False,\n",
        "                      help=\"Per device batch size parameter.\")\n",
        "  parser.add_argument(\"--gradient_accumulation_steps\", default=16, type=int, required=False,\n",
        "                      help=\"Gradient accumulation parameter.\")\n",
        "  parser.add_argument(\"--learning_rate\", default=3e-4, type=float, required=False,\n",
        "                      help=\"Learning rate parameter.\")\n",
        "  parser.add_argument(\"--epochs\", default=10, type=int, required=False,\n",
        "                      help=\"Number of epochs to train\")\n",
        "\n",
        "  device = torch.device('cuda')\n",
        "  torch.manual_seed(123)\n",
        "  args = parser.parse_args()\n",
        "\n",
        "  model = AutoModelForSeq2SeqLM.from_pretrained(args.base_model)\n",
        "  tokenizer = AutoTokenizer.from_pretrained('castorini/monot5-base-msmarco')\n",
        "\n",
        "  train_samples = []\n",
        "  fIn=pd.read_csv(args.triples_path)\n",
        "  for num, p in enumerate(fIn.iterrows()):\n",
        "    if num > 6.4e5 *10:\n",
        "        break\n",
        "    if p[1].rel>1:\n",
        "      query, positive =  p[1].Title,p[1].contents\n",
        "      train_samples.append((query, positive, 'true'))\n",
        "    else:\n",
        "      query, negative =  p[1].Title,p[1].contents\n",
        "      train_samples.append((query, negative, 'false'))\n",
        "\n",
        "  def smart_batching_collate_text_only(batch):\n",
        "    texts = [example['text'] for example in batch]\n",
        "    tokenized = tokenizer(texts, padding=True, truncation='longest_first', return_tensors='pt', max_length=512)\n",
        "    tokenized['labels'] = tokenizer([example['labels'] for example in batch], return_tensors='pt')['input_ids']\n",
        "    for name in tokenized:\n",
        "      tokenized[name] = tokenized[name].to(device)\n",
        "\n",
        "    return tokenized\n",
        "\n",
        "  dataset_train = MonoT5Dataset(train_samples)\n",
        "\n",
        "  if args.save_every_n_steps:\n",
        "    steps = args.save_every_n_steps\n",
        "    strategy = 'steps'\n",
        "  else:\n",
        "    steps = 1\n",
        "    strategy = 'epoch'\n",
        "\n",
        "  train_args = Seq2SeqTrainingArguments(\n",
        "      output_dir=args.output_model_path,\n",
        "      do_train=True,\n",
        "      save_strategy=strategy,\n",
        "      save_steps =steps, \n",
        "      logging_steps=args.logging_steps,\n",
        "      per_device_train_batch_size=args.per_device_train_batch_size,\n",
        "      gradient_accumulation_steps=args.gradient_accumulation_steps,\n",
        "      learning_rate=args.learning_rate,\n",
        "      weight_decay=5e-5,\n",
        "      num_train_epochs=1,\n",
        "      warmup_steps=1000,\n",
        "      adafactor=True,\n",
        "      seed=1,\n",
        "      disable_tqdm=False,\n",
        "      load_best_model_at_end=False,\n",
        "      predict_with_generate=True,\n",
        "      dataloader_pin_memory=False,\n",
        "  )\n",
        "\n",
        "  trainer = Seq2SeqTrainer(\n",
        "      model=model,\n",
        "      args=train_args,\n",
        "      train_dataset=dataset_train,\n",
        "      tokenizer=tokenizer,\n",
        "      data_collator=smart_batching_collate_text_only,\n",
        "  )\n",
        "\n",
        "  trainer.train()\n",
        "\n",
        "  trainer.save_model(args.output_model_path)\n",
        "  trainer.save_state()\n",
        "\n",
        "if __name__ == \"__main__\":\n",
        "  main()"
      ]
    },
    {
      "cell_type": "code",
      "source": [
        "#running the fine tuning\n",
        "!python3 fine_tune.py --triples_path \"/content/drive/MyDrive/Touche/2020/merged_new_rel_2020.csv\" --output_model_path \"/content/drive/MyDrive/Touche/fine_tune\""
      ],
      "metadata": {
        "colab": {
          "base_uri": "https://localhost:8080/"
        },
        "id": "Ubousi19V9TE",
        "outputId": "a1e3beb9-6f12-40d9-cfdd-607dc2132e08"
      },
      "execution_count": null,
      "outputs": [
        {
          "output_type": "stream",
          "name": "stdout",
          "text": [
            "Downloading: 100% 1.80k/1.80k [00:00<00:00, 1.70MB/s]\n",
            "Downloading: 100% 850M/850M [00:23<00:00, 37.5MB/s]\n",
            "Downloading: 100% 1.84k/1.84k [00:00<00:00, 2.91MB/s]\n",
            "Downloading: 100% 773k/773k [00:00<00:00, 42.8MB/s]\n",
            "Downloading: 100% 1.74k/1.74k [00:00<00:00, 2.89MB/s]\n",
            "/usr/local/lib/python3.7/dist-packages/transformers/training_args.py:845: FutureWarning: `--adafactor` is deprecated and will be removed in version 5 of 🤗 Transformers. Use `--optim adafactor` instead\n",
            "  FutureWarning,\n",
            "***** Running training *****\n",
            "  Num examples = 1633\n",
            "  Num Epochs = 1\n",
            "  Instantaneous batch size per device = 8\n",
            "  Total train batch size (w. parallel, distributed & accumulation) = 128\n",
            "  Gradient Accumulation steps = 16\n",
            "  Total optimization steps = 12\n",
            "100% 12/12 [05:15<00:00, 29.78s/it]Saving model checkpoint to /content/drive/MyDrive/Touche/fine_tune/checkpoint-12\n",
            "Configuration saved in /content/drive/MyDrive/Touche/fine_tune/checkpoint-12/config.json\n",
            "Model weights saved in /content/drive/MyDrive/Touche/fine_tune/checkpoint-12/pytorch_model.bin\n",
            "tokenizer config file saved in /content/drive/MyDrive/Touche/fine_tune/checkpoint-12/tokenizer_config.json\n",
            "Special tokens file saved in /content/drive/MyDrive/Touche/fine_tune/checkpoint-12/special_tokens_map.json\n",
            "Copy vocab file to /content/drive/MyDrive/Touche/fine_tune/checkpoint-12/spiece.model\n",
            "\n",
            "\n",
            "Training completed. Do not forget to share your model on huggingface.co/models =)\n",
            "\n",
            "\n",
            "{'train_runtime': 320.2008, 'train_samples_per_second': 5.1, 'train_steps_per_second': 0.037, 'train_loss': 0.3691397507985433, 'epoch': 0.94}\n",
            "100% 12/12 [05:19<00:00, 26.66s/it]\n",
            "Saving model checkpoint to /content/drive/MyDrive/Touche/fine_tune\n",
            "Configuration saved in /content/drive/MyDrive/Touche/fine_tune/config.json\n",
            "Model weights saved in /content/drive/MyDrive/Touche/fine_tune/pytorch_model.bin\n",
            "tokenizer config file saved in /content/drive/MyDrive/Touche/fine_tune/tokenizer_config.json\n",
            "Special tokens file saved in /content/drive/MyDrive/Touche/fine_tune/special_tokens_map.json\n",
            "Copy vocab file to /content/drive/MyDrive/Touche/fine_tune/spiece.model\n"
          ]
        }
      ]
    },
    {
      "cell_type": "code",
      "source": [
        "#loading the fine_tuned model\n",
        "from transformers import T5ForConditionalGeneration\n",
        "from pygaggle.rerank.base import Query, Text\n",
        "from pygaggle.rerank.transformer import MonoT5, DuoT5\n",
        "model = T5ForConditionalGeneration.from_pretrained('/content/drive/MyDrive/Touche/fine_tune')\n",
        "reranker = MonoT5(model=model)"
      ],
      "metadata": {
        "id": "KQioM-_Un67I"
      },
      "execution_count": null,
      "outputs": []
    },
    {
      "cell_type": "code",
      "source": [
        "from pygaggle.rerank.base import Query, Text\n",
        "from pygaggle.rerank.transformer import MonoT5, DuoT5\n",
        "model = AutoModelForSeq2SeqLM.from_pretrained(\"/content/drive/MyDrive/Touche/fine_tune\")\n",
        "reranker =  MonoT5(model)"
      ],
      "metadata": {
        "id": "3KFvIUjjjZ3n"
      },
      "execution_count": null,
      "outputs": []
    },
    {
      "cell_type": "code",
      "source": [
        "relevant_bm25=pd.read_csv(\"/content/drive/MyDrive/Touche/2020/relevant_bm25_2020.csv\")\n",
        "relevant_bm25.head()"
      ],
      "metadata": {
        "colab": {
          "base_uri": "https://localhost:8080/",
          "height": 206
        },
        "id": "S_Bg1dcNmZHF",
        "outputId": "5bda4d94-abd7-4064-df2d-26dfd8953fd8"
      },
      "execution_count": null,
      "outputs": [
        {
          "output_type": "execute_result",
          "data": {
            "text/plain": [
              "   Unnamed: 0  title_id                                             title  \\\n",
              "0           0         1  \\nWhat is the difference between sex and love?\\n   \n",
              "1           1         1  \\nWhat is the difference between sex and love?\\n   \n",
              "2           2         1  \\nWhat is the difference between sex and love?\\n   \n",
              "3           3         1  \\nWhat is the difference between sex and love?\\n   \n",
              "4           4         1  \\nWhat is the difference between sex and love?\\n   \n",
              "\n",
              "                      doc_id   score  \\\n",
              "0  clueweb12-0818wb-26-13074  7.1866   \n",
              "1  clueweb12-0010wb-33-27298  7.1624   \n",
              "2  clueweb12-0103wb-41-14265  6.9118   \n",
              "3  clueweb12-1013wb-51-17839  6.4538   \n",
              "4  clueweb12-1400tw-39-23968  6.2936   \n",
              "\n",
              "                                             content  \n",
              "0   toofly nyc » hip hop culture toofly nyc clien...  \n",
              "1   relational quantum mechanics stanford encyclo...  \n",
              "2   lecture series  science  software engineering...  \n",
              "3   ethical buyers guide toy cars trains planes s...  \n",
              "4   video video cbr tv movie trailersclips tv tra...  "
            ],
            "text/html": [
              "\n",
              "  <div id=\"df-db7d2902-dd11-4186-aec2-9bfa0dbb96b9\">\n",
              "    <div class=\"colab-df-container\">\n",
              "      <div>\n",
              "<style scoped>\n",
              "    .dataframe tbody tr th:only-of-type {\n",
              "        vertical-align: middle;\n",
              "    }\n",
              "\n",
              "    .dataframe tbody tr th {\n",
              "        vertical-align: top;\n",
              "    }\n",
              "\n",
              "    .dataframe thead th {\n",
              "        text-align: right;\n",
              "    }\n",
              "</style>\n",
              "<table border=\"1\" class=\"dataframe\">\n",
              "  <thead>\n",
              "    <tr style=\"text-align: right;\">\n",
              "      <th></th>\n",
              "      <th>Unnamed: 0</th>\n",
              "      <th>title_id</th>\n",
              "      <th>title</th>\n",
              "      <th>doc_id</th>\n",
              "      <th>score</th>\n",
              "      <th>content</th>\n",
              "    </tr>\n",
              "  </thead>\n",
              "  <tbody>\n",
              "    <tr>\n",
              "      <th>0</th>\n",
              "      <td>0</td>\n",
              "      <td>1</td>\n",
              "      <td>\\nWhat is the difference between sex and love?\\n</td>\n",
              "      <td>clueweb12-0818wb-26-13074</td>\n",
              "      <td>7.1866</td>\n",
              "      <td>toofly nyc » hip hop culture toofly nyc clien...</td>\n",
              "    </tr>\n",
              "    <tr>\n",
              "      <th>1</th>\n",
              "      <td>1</td>\n",
              "      <td>1</td>\n",
              "      <td>\\nWhat is the difference between sex and love?\\n</td>\n",
              "      <td>clueweb12-0010wb-33-27298</td>\n",
              "      <td>7.1624</td>\n",
              "      <td>relational quantum mechanics stanford encyclo...</td>\n",
              "    </tr>\n",
              "    <tr>\n",
              "      <th>2</th>\n",
              "      <td>2</td>\n",
              "      <td>1</td>\n",
              "      <td>\\nWhat is the difference between sex and love?\\n</td>\n",
              "      <td>clueweb12-0103wb-41-14265</td>\n",
              "      <td>6.9118</td>\n",
              "      <td>lecture series  science  software engineering...</td>\n",
              "    </tr>\n",
              "    <tr>\n",
              "      <th>3</th>\n",
              "      <td>3</td>\n",
              "      <td>1</td>\n",
              "      <td>\\nWhat is the difference between sex and love?\\n</td>\n",
              "      <td>clueweb12-1013wb-51-17839</td>\n",
              "      <td>6.4538</td>\n",
              "      <td>ethical buyers guide toy cars trains planes s...</td>\n",
              "    </tr>\n",
              "    <tr>\n",
              "      <th>4</th>\n",
              "      <td>4</td>\n",
              "      <td>1</td>\n",
              "      <td>\\nWhat is the difference between sex and love?\\n</td>\n",
              "      <td>clueweb12-1400tw-39-23968</td>\n",
              "      <td>6.2936</td>\n",
              "      <td>video video cbr tv movie trailersclips tv tra...</td>\n",
              "    </tr>\n",
              "  </tbody>\n",
              "</table>\n",
              "</div>\n",
              "      <button class=\"colab-df-convert\" onclick=\"convertToInteractive('df-db7d2902-dd11-4186-aec2-9bfa0dbb96b9')\"\n",
              "              title=\"Convert this dataframe to an interactive table.\"\n",
              "              style=\"display:none;\">\n",
              "        \n",
              "  <svg xmlns=\"http://www.w3.org/2000/svg\" height=\"24px\"viewBox=\"0 0 24 24\"\n",
              "       width=\"24px\">\n",
              "    <path d=\"M0 0h24v24H0V0z\" fill=\"none\"/>\n",
              "    <path d=\"M18.56 5.44l.94 2.06.94-2.06 2.06-.94-2.06-.94-.94-2.06-.94 2.06-2.06.94zm-11 1L8.5 8.5l.94-2.06 2.06-.94-2.06-.94L8.5 2.5l-.94 2.06-2.06.94zm10 10l.94 2.06.94-2.06 2.06-.94-2.06-.94-.94-2.06-.94 2.06-2.06.94z\"/><path d=\"M17.41 7.96l-1.37-1.37c-.4-.4-.92-.59-1.43-.59-.52 0-1.04.2-1.43.59L10.3 9.45l-7.72 7.72c-.78.78-.78 2.05 0 2.83L4 21.41c.39.39.9.59 1.41.59.51 0 1.02-.2 1.41-.59l7.78-7.78 2.81-2.81c.8-.78.8-2.07 0-2.86zM5.41 20L4 18.59l7.72-7.72 1.47 1.35L5.41 20z\"/>\n",
              "  </svg>\n",
              "      </button>\n",
              "      \n",
              "  <style>\n",
              "    .colab-df-container {\n",
              "      display:flex;\n",
              "      flex-wrap:wrap;\n",
              "      gap: 12px;\n",
              "    }\n",
              "\n",
              "    .colab-df-convert {\n",
              "      background-color: #E8F0FE;\n",
              "      border: none;\n",
              "      border-radius: 50%;\n",
              "      cursor: pointer;\n",
              "      display: none;\n",
              "      fill: #1967D2;\n",
              "      height: 32px;\n",
              "      padding: 0 0 0 0;\n",
              "      width: 32px;\n",
              "    }\n",
              "\n",
              "    .colab-df-convert:hover {\n",
              "      background-color: #E2EBFA;\n",
              "      box-shadow: 0px 1px 2px rgba(60, 64, 67, 0.3), 0px 1px 3px 1px rgba(60, 64, 67, 0.15);\n",
              "      fill: #174EA6;\n",
              "    }\n",
              "\n",
              "    [theme=dark] .colab-df-convert {\n",
              "      background-color: #3B4455;\n",
              "      fill: #D2E3FC;\n",
              "    }\n",
              "\n",
              "    [theme=dark] .colab-df-convert:hover {\n",
              "      background-color: #434B5C;\n",
              "      box-shadow: 0px 1px 3px 1px rgba(0, 0, 0, 0.15);\n",
              "      filter: drop-shadow(0px 1px 2px rgba(0, 0, 0, 0.3));\n",
              "      fill: #FFFFFF;\n",
              "    }\n",
              "  </style>\n",
              "\n",
              "      <script>\n",
              "        const buttonEl =\n",
              "          document.querySelector('#df-db7d2902-dd11-4186-aec2-9bfa0dbb96b9 button.colab-df-convert');\n",
              "        buttonEl.style.display =\n",
              "          google.colab.kernel.accessAllowed ? 'block' : 'none';\n",
              "\n",
              "        async function convertToInteractive(key) {\n",
              "          const element = document.querySelector('#df-db7d2902-dd11-4186-aec2-9bfa0dbb96b9');\n",
              "          const dataTable =\n",
              "            await google.colab.kernel.invokeFunction('convertToInteractive',\n",
              "                                                     [key], {});\n",
              "          if (!dataTable) return;\n",
              "\n",
              "          const docLinkHtml = 'Like what you see? Visit the ' +\n",
              "            '<a target=\"_blank\" href=https://colab.research.google.com/notebooks/data_table.ipynb>data table notebook</a>'\n",
              "            + ' to learn more about interactive tables.';\n",
              "          element.innerHTML = '';\n",
              "          dataTable['output_type'] = 'display_data';\n",
              "          await google.colab.output.renderOutput(dataTable, element);\n",
              "          const docLink = document.createElement('div');\n",
              "          docLink.innerHTML = docLinkHtml;\n",
              "          element.appendChild(docLink);\n",
              "        }\n",
              "      </script>\n",
              "    </div>\n",
              "  </div>\n",
              "  "
            ]
          },
          "metadata": {},
          "execution_count": 5
        }
      ]
    },
    {
      "cell_type": "code",
      "source": [
        "new=[]\n",
        "for title in tqdm(relevant_bm25[\"title\"].unique()):\n",
        "  passages= relevant_bm25.loc[relevant_bm25[\"title\"]==title]\n",
        "  texts = [ Text(p[1].content, {'docid': p[1].doc_id}, 0) for p in passages.iterrows()]\n",
        "  query = Query(title)\n",
        "  reranked = reranker.rerank(query, texts)\n",
        "  for i in range(0, 1000):\n",
        "    new.append({\"doc_id\":reranked[i].metadata[\"docid\"], \"Score\":reranked[i].score, \"title\":title})"
      ],
      "metadata": {
        "id": "DLnvDj0GmT9w"
      },
      "execution_count": null,
      "outputs": []
    },
    {
      "cell_type": "code",
      "source": [
        "#retreiving 10 documents it takes 20 seconds so retrieving 1000 documents per query may take 30 mins\n",
        "%%time\n",
        "new=[]\n",
        "title=relevant_bm25[\"title\"][0]\n",
        "passages= relevant_bm25.loc[relevant_bm25[\"title\"]==title]\n",
        "texts = [ Text(p[1].content, {'docid': p[1].doc_id}, 0) for p in passages.iterrows()]\n",
        "query = Query(title)\n",
        "texts=texts[0:10]\n",
        "reranked = reranker.rerank(query, texts)\n",
        "for i in range(0, 10):\n",
        "  new.append({\"doc_id\":reranked[i].metadata[\"docid\"], \"Score\":reranked[i].score, \"title\":title})"
      ],
      "metadata": {
        "colab": {
          "base_uri": "https://localhost:8080/"
        },
        "id": "awufP2glpCKu",
        "outputId": "fe518960-9bb3-4060-d7be-e61348c41e68"
      },
      "execution_count": null,
      "outputs": [
        {
          "output_type": "stream",
          "name": "stdout",
          "text": [
            "CPU times: user 20.1 s, sys: 195 ms, total: 20.3 s\n",
            "Wall time: 22.4 s\n"
          ]
        }
      ]
    },
    {
      "cell_type": "markdown",
      "source": [
        "#The input dataset for fine tuning"
      ],
      "metadata": {
        "id": "J3Bh83gFTNuL"
      }
    },
    {
      "cell_type": "code",
      "source": [
        "new_rel_2020=pd.read_csv(\"/content/drive/MyDrive/Touche/2020/new_rel_2020.csv\")\n",
        "new_rel_2020[\"qid\"] = new_rel_2020[\"qid\"].astype(str)\n",
        "new_rel_2020=new_rel_2020.drop(\"Unnamed: 0\", axis=1)\n",
        "new_rel_2020.head()"
      ],
      "metadata": {
        "id": "pyI6AiC4Ndxv"
      },
      "execution_count": null,
      "outputs": []
    },
    {
      "cell_type": "code",
      "source": [
        "topics_2020=pd.read_csv(\"/content/drive/MyDrive/Touche/2020/Topics.csv\")"
      ],
      "metadata": {
        "id": "RBEC7XUNPmej"
      },
      "execution_count": null,
      "outputs": []
    },
    {
      "cell_type": "code",
      "source": [
        "docs_2020=pd.read_csv(\"/content/drive/MyDrive/Touche/2020/docs_2020.csv\")"
      ],
      "metadata": {
        "id": "lDMXWYXgP4C1"
      },
      "execution_count": null,
      "outputs": []
    },
    {
      "cell_type": "code",
      "source": [
        "merged_dataset=new_rel_2020.join(docs_2020.set_index('old_id'),on=\"doc\").drop([\"no\",\"Unnamed: 0\",\"doc\"], axis=1)"
      ],
      "metadata": {
        "id": "MXL1iGYzQSe_"
      },
      "execution_count": null,
      "outputs": []
    },
    {
      "cell_type": "code",
      "source": [
        "merged_dataset=merged_dataset.join(topics_2020.set_index(\"Number\"),on=\"qid\").drop(\"qid\",axis=1)"
      ],
      "metadata": {
        "id": "yEgbi0CuRf3j"
      },
      "execution_count": null,
      "outputs": []
    },
    {
      "cell_type": "code",
      "source": [
        "merged_dataset.to_csv(\"/content/drive/MyDrive/Touche/2020/merged_new_rel_2020.csv\")"
      ],
      "metadata": {
        "id": "p9xWADMtSOv-"
      },
      "execution_count": null,
      "outputs": []
    },
    {
      "cell_type": "code",
      "source": [
        "merged_dataset=pd.read_csv(\"/content/drive/MyDrive/Touche/2020/merged_new_rel_2020.csv\")"
      ],
      "metadata": {
        "id": "I-kRizrOTW3g"
      },
      "execution_count": null,
      "outputs": []
    },
    {
      "cell_type": "code",
      "source": [
        ""
      ],
      "metadata": {
        "id": "Xx16cIFpSl-K"
      },
      "execution_count": null,
      "outputs": []
    }
  ]
}