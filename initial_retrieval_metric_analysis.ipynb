{
  "nbformat": 4,
  "nbformat_minor": 0,
  "metadata": {
    "colab": {
      "name": "initial-retrieval-metric-analysis.ipynb",
      "provenance": [],
      "collapsed_sections": []
    },
    "kernelspec": {
      "name": "python3",
      "display_name": "Python 3"
    },
    "language_info": {
      "name": "python"
    },
    "accelerator": "GPU"
  },
  "cells": [
    {
      "cell_type": "code",
      "execution_count": 1,
      "metadata": {
        "id": "D4j85Y-nmGV7",
        "colab": {
          "base_uri": "https://localhost:8080/"
        },
        "outputId": "b5215061-8f5a-4c43-dbc7-715a971517f3"
      },
      "outputs": [
        {
          "output_type": "stream",
          "name": "stdout",
          "text": [
            "Mounted at /content/drive\n"
          ]
        }
      ],
      "source": [
        "# TASK 1: Analysis of step-one performance retrieval.\n",
        "# First thing, start easy: build two-indexes, evaluate them top-m retrievals\n",
        "# Hit-once and Hit-all. Then see other metrics like precision & recall + Roni's analysis.\n",
        "from google.colab import drive\n",
        "drive.mount('/content/drive')"
      ]
    },
    {
      "cell_type": "code",
      "source": [
        "# cleaning sample_data directory\n",
        "!rm -r sample_data"
      ],
      "metadata": {
        "id": "Hj7M-YF9A3n5"
      },
      "execution_count": 2,
      "outputs": []
    },
    {
      "cell_type": "code",
      "source": [
        "!ls drive/My\\ Drive/touche-2022-prototyping"
      ],
      "metadata": {
        "colab": {
          "base_uri": "https://localhost:8080/"
        },
        "id": "IxPrdX68Auuf",
        "outputId": "922c5c74-bcf0-4a68-b81b-7c73e2feea7c"
      },
      "execution_count": 3,
      "outputs": [
        {
          "output_type": "stream",
          "name": "stdout",
          "text": [
            "initial-retrieval-prototyping-and-analysis.ipynb\n",
            "mon-duo-retrieval-prototyping-and-analysis.ipynb\n",
            "topics-task2-51-100.xml\n",
            "touche-task2-51-100-relevance.qrels\n",
            "touche-task2-passages-version-002-expanded-with-doc-t5-query.jsonl\n",
            "Untitled\n"
          ]
        }
      ]
    },
    {
      "cell_type": "code",
      "source": [
        "# One Time Exection.\n",
        "# extracting files and converting them to 'tar.gz' files.\n",
        "# !gzip -d drive/My\\ Drive/touche-2022-prototyping/touche-task2-passages-version-002-expanded-with-doc-t5-query.jsonl.gz\n",
        "# !gzip -d drive/My\\ Drive/touche-2022-prototyping/touche-task2-passages-version-002.jsonl.gz"
      ],
      "metadata": {
        "id": "JHSRAOk5otk3"
      },
      "execution_count": null,
      "outputs": []
    },
    {
      "cell_type": "code",
      "source": [
        "# installing linux related stuff for pyserini\n",
        "# removing error \"ImportError: No module named '_swigfaiss\"\n",
        "# Reference Link: https://github.com/facebookresearch/faiss/issues/821\n",
        "!sudo apt-get install libomp-dev"
      ],
      "metadata": {
        "colab": {
          "base_uri": "https://localhost:8080/"
        },
        "id": "23SsTA0a_tNU",
        "outputId": "0855b747-543a-4c43-9fde-71339d97ac11"
      },
      "execution_count": 5,
      "outputs": [
        {
          "output_type": "stream",
          "name": "stdout",
          "text": [
            "Reading package lists... Done\n",
            "Building dependency tree       \n",
            "Reading state information... Done\n",
            "libomp-dev is already the newest version (5.0.1-1).\n",
            "0 upgraded, 0 newly installed, 0 to remove and 39 not upgraded.\n"
          ]
        }
      ]
    },
    {
      "cell_type": "code",
      "source": [
        "# installing important packages for analyzing the code.\n",
        "!pip install jsonlines\n",
        "!pip install pyserini\n",
        "!pip install faiss"
      ],
      "metadata": {
        "colab": {
          "base_uri": "https://localhost:8080/"
        },
        "id": "Qb1hvFTCv_hK",
        "outputId": "f7f9edb3-cda0-42a7-e90e-baa4fc47e3a3"
      },
      "execution_count": 6,
      "outputs": [
        {
          "output_type": "stream",
          "name": "stdout",
          "text": [
            "Collecting jsonlines\n",
            "  Downloading jsonlines-3.0.0-py3-none-any.whl (8.5 kB)\n",
            "Requirement already satisfied: attrs>=19.2.0 in /usr/local/lib/python3.7/dist-packages (from jsonlines) (21.4.0)\n",
            "Requirement already satisfied: typing-extensions in /usr/local/lib/python3.7/dist-packages (from jsonlines) (3.10.0.2)\n",
            "Installing collected packages: jsonlines\n",
            "Successfully installed jsonlines-3.0.0\n",
            "Collecting pyserini\n",
            "  Downloading pyserini-0.16.0-py3-none-any.whl (84.6 MB)\n",
            "\u001b[K     |████████████████████████████████| 84.6 MB 141 kB/s \n",
            "\u001b[?25hRequirement already satisfied: scikit-learn>=0.22.1 in /usr/local/lib/python3.7/dist-packages (from pyserini) (1.0.2)\n",
            "Collecting nmslib>=2.1.1\n",
            "  Downloading nmslib-2.1.1-cp37-cp37m-manylinux2010_x86_64.whl (13.5 MB)\n",
            "\u001b[K     |████████████████████████████████| 13.5 MB 19.7 MB/s \n",
            "\u001b[?25hCollecting lightgbm>=3.3.2\n",
            "  Downloading lightgbm-3.3.2-py3-none-manylinux1_x86_64.whl (2.0 MB)\n",
            "\u001b[K     |████████████████████████████████| 2.0 MB 43.6 MB/s \n",
            "\u001b[?25hRequirement already satisfied: tqdm in /usr/local/lib/python3.7/dist-packages (from pyserini) (4.63.0)\n",
            "Collecting onnxruntime>=1.8.1\n",
            "  Downloading onnxruntime-1.11.0-cp37-cp37m-manylinux_2_17_x86_64.manylinux2014_x86_64.whl (5.2 MB)\n",
            "\u001b[K     |████████████████████████████████| 5.2 MB 33.6 MB/s \n",
            "\u001b[?25hCollecting sentencepiece>=0.1.95\n",
            "  Downloading sentencepiece-0.1.96-cp37-cp37m-manylinux_2_17_x86_64.manylinux2014_x86_64.whl (1.2 MB)\n",
            "\u001b[K     |████████████████████████████████| 1.2 MB 43.3 MB/s \n",
            "\u001b[?25hRequirement already satisfied: scipy>=1.4.1 in /usr/local/lib/python3.7/dist-packages (from pyserini) (1.4.1)\n",
            "Collecting pyjnius>=1.4.0\n",
            "  Downloading pyjnius-1.4.1-cp37-cp37m-manylinux_2_5_x86_64.manylinux1_x86_64.manylinux_2_12_x86_64.manylinux2010_x86_64.whl (1.1 MB)\n",
            "\u001b[K     |████████████████████████████████| 1.1 MB 48.6 MB/s \n",
            "\u001b[?25hRequirement already satisfied: numpy>=1.18.1 in /usr/local/lib/python3.7/dist-packages (from pyserini) (1.21.5)\n",
            "Collecting transformers>=4.6.0\n",
            "  Downloading transformers-4.17.0-py3-none-any.whl (3.8 MB)\n",
            "\u001b[K     |████████████████████████████████| 3.8 MB 39.4 MB/s \n",
            "\u001b[?25hCollecting spacy>=3.2.1\n",
            "  Downloading spacy-3.2.4-cp37-cp37m-manylinux_2_17_x86_64.manylinux2014_x86_64.whl (6.0 MB)\n",
            "\u001b[K     |████████████████████████████████| 6.0 MB 18.3 MB/s \n",
            "\u001b[?25hRequirement already satisfied: pandas>=1.1.5 in /usr/local/lib/python3.7/dist-packages (from pyserini) (1.3.5)\n",
            "Requirement already satisfied: Cython>=0.29.21 in /usr/local/lib/python3.7/dist-packages (from pyserini) (0.29.28)\n",
            "Requirement already satisfied: wheel in /usr/local/lib/python3.7/dist-packages (from lightgbm>=3.3.2->pyserini) (0.37.1)\n",
            "Collecting pybind11<2.6.2\n",
            "  Downloading pybind11-2.6.1-py2.py3-none-any.whl (188 kB)\n",
            "\u001b[K     |████████████████████████████████| 188 kB 48.3 MB/s \n",
            "\u001b[?25hRequirement already satisfied: psutil in /usr/local/lib/python3.7/dist-packages (from nmslib>=2.1.1->pyserini) (5.4.8)\n",
            "Requirement already satisfied: flatbuffers in /usr/local/lib/python3.7/dist-packages (from onnxruntime>=1.8.1->pyserini) (2.0)\n",
            "Requirement already satisfied: protobuf in /usr/local/lib/python3.7/dist-packages (from onnxruntime>=1.8.1->pyserini) (3.17.3)\n",
            "Requirement already satisfied: python-dateutil>=2.7.3 in /usr/local/lib/python3.7/dist-packages (from pandas>=1.1.5->pyserini) (2.8.2)\n",
            "Requirement already satisfied: pytz>=2017.3 in /usr/local/lib/python3.7/dist-packages (from pandas>=1.1.5->pyserini) (2018.9)\n",
            "Requirement already satisfied: six>=1.7.0 in /usr/local/lib/python3.7/dist-packages (from pyjnius>=1.4.0->pyserini) (1.15.0)\n",
            "Requirement already satisfied: joblib>=0.11 in /usr/local/lib/python3.7/dist-packages (from scikit-learn>=0.22.1->pyserini) (1.1.0)\n",
            "Requirement already satisfied: threadpoolctl>=2.0.0 in /usr/local/lib/python3.7/dist-packages (from scikit-learn>=0.22.1->pyserini) (3.1.0)\n",
            "Requirement already satisfied: jinja2 in /usr/local/lib/python3.7/dist-packages (from spacy>=3.2.1->pyserini) (2.11.3)\n",
            "Collecting pydantic!=1.8,!=1.8.1,<1.9.0,>=1.7.4\n",
            "  Downloading pydantic-1.8.2-cp37-cp37m-manylinux2014_x86_64.whl (10.1 MB)\n",
            "\u001b[K     |████████████████████████████████| 10.1 MB 23.3 MB/s \n",
            "\u001b[?25hRequirement already satisfied: blis<0.8.0,>=0.4.0 in /usr/local/lib/python3.7/dist-packages (from spacy>=3.2.1->pyserini) (0.4.1)\n",
            "Collecting srsly<3.0.0,>=2.4.1\n",
            "  Downloading srsly-2.4.2-cp37-cp37m-manylinux_2_17_x86_64.manylinux2014_x86_64.whl (451 kB)\n",
            "\u001b[K     |████████████████████████████████| 451 kB 47.4 MB/s \n",
            "\u001b[?25hRequirement already satisfied: setuptools in /usr/local/lib/python3.7/dist-packages (from spacy>=3.2.1->pyserini) (57.4.0)\n",
            "Collecting typer<0.5.0,>=0.3.0\n",
            "  Downloading typer-0.4.1-py3-none-any.whl (27 kB)\n",
            "Collecting pathy>=0.3.5\n",
            "  Downloading pathy-0.6.1-py3-none-any.whl (42 kB)\n",
            "\u001b[K     |████████████████████████████████| 42 kB 1.3 MB/s \n",
            "\u001b[?25hRequirement already satisfied: wasabi<1.1.0,>=0.8.1 in /usr/local/lib/python3.7/dist-packages (from spacy>=3.2.1->pyserini) (0.9.0)\n",
            "Collecting spacy-legacy<3.1.0,>=3.0.8\n",
            "  Downloading spacy_legacy-3.0.9-py2.py3-none-any.whl (20 kB)\n",
            "Collecting langcodes<4.0.0,>=3.2.0\n",
            "  Downloading langcodes-3.3.0-py3-none-any.whl (181 kB)\n",
            "\u001b[K     |████████████████████████████████| 181 kB 47.8 MB/s \n",
            "\u001b[?25hRequirement already satisfied: murmurhash<1.1.0,>=0.28.0 in /usr/local/lib/python3.7/dist-packages (from spacy>=3.2.1->pyserini) (1.0.6)\n",
            "Requirement already satisfied: preshed<3.1.0,>=3.0.2 in /usr/local/lib/python3.7/dist-packages (from spacy>=3.2.1->pyserini) (3.0.6)\n",
            "Collecting thinc<8.1.0,>=8.0.12\n",
            "  Downloading thinc-8.0.15-cp37-cp37m-manylinux_2_17_x86_64.manylinux2014_x86_64.whl (653 kB)\n",
            "\u001b[K     |████████████████████████████████| 653 kB 10.8 MB/s \n",
            "\u001b[?25hRequirement already satisfied: packaging>=20.0 in /usr/local/lib/python3.7/dist-packages (from spacy>=3.2.1->pyserini) (21.3)\n",
            "Requirement already satisfied: cymem<2.1.0,>=2.0.2 in /usr/local/lib/python3.7/dist-packages (from spacy>=3.2.1->pyserini) (2.0.6)\n",
            "Requirement already satisfied: typing-extensions<4.0.0.0,>=3.7.4 in /usr/local/lib/python3.7/dist-packages (from spacy>=3.2.1->pyserini) (3.10.0.2)\n",
            "Requirement already satisfied: click<8.1.0 in /usr/local/lib/python3.7/dist-packages (from spacy>=3.2.1->pyserini) (7.1.2)\n",
            "Collecting catalogue<2.1.0,>=2.0.6\n",
            "  Downloading catalogue-2.0.7-py3-none-any.whl (17 kB)\n",
            "Collecting spacy-loggers<2.0.0,>=1.0.0\n",
            "  Downloading spacy_loggers-1.0.2-py3-none-any.whl (7.2 kB)\n",
            "Requirement already satisfied: requests<3.0.0,>=2.13.0 in /usr/local/lib/python3.7/dist-packages (from spacy>=3.2.1->pyserini) (2.23.0)\n",
            "Requirement already satisfied: zipp>=0.5 in /usr/local/lib/python3.7/dist-packages (from catalogue<2.1.0,>=2.0.6->spacy>=3.2.1->pyserini) (3.7.0)\n",
            "Requirement already satisfied: pyparsing!=3.0.5,>=2.0.2 in /usr/local/lib/python3.7/dist-packages (from packaging>=20.0->spacy>=3.2.1->pyserini) (3.0.7)\n",
            "Requirement already satisfied: smart-open<6.0.0,>=5.0.0 in /usr/local/lib/python3.7/dist-packages (from pathy>=0.3.5->spacy>=3.2.1->pyserini) (5.2.1)\n",
            "Requirement already satisfied: chardet<4,>=3.0.2 in /usr/local/lib/python3.7/dist-packages (from requests<3.0.0,>=2.13.0->spacy>=3.2.1->pyserini) (3.0.4)\n",
            "Requirement already satisfied: urllib3!=1.25.0,!=1.25.1,<1.26,>=1.21.1 in /usr/local/lib/python3.7/dist-packages (from requests<3.0.0,>=2.13.0->spacy>=3.2.1->pyserini) (1.24.3)\n",
            "Requirement already satisfied: idna<3,>=2.5 in /usr/local/lib/python3.7/dist-packages (from requests<3.0.0,>=2.13.0->spacy>=3.2.1->pyserini) (2.10)\n",
            "Requirement already satisfied: certifi>=2017.4.17 in /usr/local/lib/python3.7/dist-packages (from requests<3.0.0,>=2.13.0->spacy>=3.2.1->pyserini) (2021.10.8)\n",
            "Collecting sacremoses\n",
            "  Downloading sacremoses-0.0.49-py3-none-any.whl (895 kB)\n",
            "\u001b[K     |████████████████████████████████| 895 kB 52.2 MB/s \n",
            "\u001b[?25hCollecting tokenizers!=0.11.3,>=0.11.1\n",
            "  Downloading tokenizers-0.11.6-cp37-cp37m-manylinux_2_12_x86_64.manylinux2010_x86_64.whl (6.5 MB)\n",
            "\u001b[K     |████████████████████████████████| 6.5 MB 37.8 MB/s \n",
            "\u001b[?25hRequirement already satisfied: filelock in /usr/local/lib/python3.7/dist-packages (from transformers>=4.6.0->pyserini) (3.6.0)\n",
            "Collecting pyyaml>=5.1\n",
            "  Downloading PyYAML-6.0-cp37-cp37m-manylinux_2_5_x86_64.manylinux1_x86_64.manylinux_2_12_x86_64.manylinux2010_x86_64.whl (596 kB)\n",
            "\u001b[K     |████████████████████████████████| 596 kB 53.0 MB/s \n",
            "\u001b[?25hRequirement already satisfied: regex!=2019.12.17 in /usr/local/lib/python3.7/dist-packages (from transformers>=4.6.0->pyserini) (2019.12.20)\n",
            "Requirement already satisfied: importlib-metadata in /usr/local/lib/python3.7/dist-packages (from transformers>=4.6.0->pyserini) (4.11.3)\n",
            "Collecting huggingface-hub<1.0,>=0.1.0\n",
            "  Downloading huggingface_hub-0.4.0-py3-none-any.whl (67 kB)\n",
            "\u001b[K     |████████████████████████████████| 67 kB 5.8 MB/s \n",
            "\u001b[?25hRequirement already satisfied: MarkupSafe>=0.23 in /usr/local/lib/python3.7/dist-packages (from jinja2->spacy>=3.2.1->pyserini) (2.0.1)\n",
            "Installing collected packages: catalogue, typer, srsly, pyyaml, pydantic, tokenizers, thinc, spacy-loggers, spacy-legacy, sacremoses, pybind11, pathy, langcodes, huggingface-hub, transformers, spacy, sentencepiece, pyjnius, onnxruntime, nmslib, lightgbm, pyserini\n",
            "  Attempting uninstall: catalogue\n",
            "    Found existing installation: catalogue 1.0.0\n",
            "    Uninstalling catalogue-1.0.0:\n",
            "      Successfully uninstalled catalogue-1.0.0\n",
            "  Attempting uninstall: srsly\n",
            "    Found existing installation: srsly 1.0.5\n",
            "    Uninstalling srsly-1.0.5:\n",
            "      Successfully uninstalled srsly-1.0.5\n",
            "  Attempting uninstall: pyyaml\n",
            "    Found existing installation: PyYAML 3.13\n",
            "    Uninstalling PyYAML-3.13:\n",
            "      Successfully uninstalled PyYAML-3.13\n",
            "  Attempting uninstall: thinc\n",
            "    Found existing installation: thinc 7.4.0\n",
            "    Uninstalling thinc-7.4.0:\n",
            "      Successfully uninstalled thinc-7.4.0\n",
            "  Attempting uninstall: spacy\n",
            "    Found existing installation: spacy 2.2.4\n",
            "    Uninstalling spacy-2.2.4:\n",
            "      Successfully uninstalled spacy-2.2.4\n",
            "  Attempting uninstall: lightgbm\n",
            "    Found existing installation: lightgbm 2.2.3\n",
            "    Uninstalling lightgbm-2.2.3:\n",
            "      Successfully uninstalled lightgbm-2.2.3\n",
            "Successfully installed catalogue-2.0.7 huggingface-hub-0.4.0 langcodes-3.3.0 lightgbm-3.3.2 nmslib-2.1.1 onnxruntime-1.11.0 pathy-0.6.1 pybind11-2.6.1 pydantic-1.8.2 pyjnius-1.4.1 pyserini-0.16.0 pyyaml-6.0 sacremoses-0.0.49 sentencepiece-0.1.96 spacy-3.2.4 spacy-legacy-3.0.9 spacy-loggers-1.0.2 srsly-2.4.2 thinc-8.0.15 tokenizers-0.11.6 transformers-4.17.0 typer-0.4.1\n",
            "Collecting faiss\n",
            "  Downloading faiss-1.5.3-cp37-cp37m-manylinux1_x86_64.whl (4.7 MB)\n",
            "\u001b[K     |████████████████████████████████| 4.7 MB 4.2 MB/s \n",
            "\u001b[?25hRequirement already satisfied: numpy in /usr/local/lib/python3.7/dist-packages (from faiss) (1.21.5)\n",
            "Installing collected packages: faiss\n",
            "Successfully installed faiss-1.5.3\n"
          ]
        }
      ]
    },
    {
      "cell_type": "code",
      "source": [
        "# import statements\n",
        "import pandas as pd\n",
        "import jsonlines\n",
        "from xml.dom import minidom\n",
        "import numpy as np"
      ],
      "metadata": {
        "id": "tV1M4Yu2DKaG"
      },
      "execution_count": 17,
      "outputs": []
    },
    {
      "cell_type": "code",
      "source": [
        "# original corpus\n",
        "# corpus_list = list(jsonlines.open('drive/My Drive/touche-2022-prototyping/touche-task2-passages-version-002.jsonl'))"
      ],
      "metadata": {
        "id": "B7Gb5urFDKcU"
      },
      "execution_count": null,
      "outputs": []
    },
    {
      "cell_type": "code",
      "source": [
        "# query expansion corpus\n",
        "qcorpus_list = list(jsonlines.open('drive/My Drive/touche-2022-prototyping/touche-task2-passages-version-002-expanded-with-doc-t5-query.jsonl'))"
      ],
      "metadata": {
        "id": "ZWRbfZ-jotq3"
      },
      "execution_count": 8,
      "outputs": []
    },
    {
      "cell_type": "code",
      "source": [
        "# printing demo query\n",
        "qcorpus_list[0]"
      ],
      "metadata": {
        "id": "jSdmIgqlmJGO",
        "colab": {
          "base_uri": "https://localhost:8080/"
        },
        "outputId": "d2e28bfc-bb4a-48c8-f31c-f01d3ea34163"
      },
      "execution_count": 9,
      "outputs": [
        {
          "output_type": "execute_result",
          "data": {
            "text/plain": [
              "{'chatNoirUrl': 'https://chatnoir.eu/cache?uuid=25e04d49-8df7-58c9-8fae-c5bd54a070ba&index=cw12&raw&plain',\n",
              " 'contents': \"Do Asian-Americans Face Bias in Admissions at Elite Colleges? - NYTimes.com Home Page Today's Paper Video Most Popular Times Topics Search All NYTimes.com Education World U.S. Politics Education Bay Area Chicago Texas N.Y. / Region Business Technology Science Health Sports Opinion Arts Style Travel Jobs Real Estate Autos February 8, 2012, 1:43 pm Do Asian-Americans Face Bias in Admissions at Elite Colleges? By DANIEL E. SLOTNIK 6:08 p.m. | Updated A statement from Princeton was added to the story. The Department of Education’s Office for Civil Rights is examining complaints thatHarvard and Princeton have discriminated against Asian-American undergraduate applicants, highlighting a concern of many Asian-American parents. The inquiry was first reported by Bloomberg News.<query> do asian americans face bias in admissions</query>\",\n",
              " 'id': 'clueweb12-0000tw-00-14115___1'}"
            ]
          },
          "metadata": {},
          "execution_count": 9
        }
      ]
    },
    {
      "cell_type": "code",
      "source": [
        "!mkdir sample_collection_jsonl\n",
        "!mkdir indexes\n",
        "!mkdir indexes/sample_collection_jsonl"
      ],
      "metadata": {
        "id": "Dce45nMb5qLE"
      },
      "execution_count": 10,
      "outputs": []
    },
    {
      "cell_type": "code",
      "source": [
        "output = jsonlines.open('sample_collection_jsonl/documents.jsonl', 'w')\n",
        "for vals in qcorpus_list:\n",
        "    output.write({\n",
        "        'id': vals['id'],\n",
        "        'contents': vals['contents']\n",
        "    })"
      ],
      "metadata": {
        "id": "7_sMoNep3b22"
      },
      "execution_count": 11,
      "outputs": []
    },
    {
      "cell_type": "code",
      "source": [
        "!head -10 sample_collection_jsonl/documents.jsonl"
      ],
      "metadata": {
        "colab": {
          "base_uri": "https://localhost:8080/"
        },
        "id": "v0LGC18t4uTd",
        "outputId": "e3c25485-17b6-4b8d-d26b-94b94105fd8f"
      },
      "execution_count": 12,
      "outputs": [
        {
          "output_type": "stream",
          "name": "stdout",
          "text": [
            "{\"id\": \"clueweb12-0000tw-00-14115___1\", \"contents\": \"Do Asian-Americans Face Bias in Admissions at Elite Colleges? - NYTimes.com Home Page Today's Paper Video Most Popular Times Topics Search All NYTimes.com Education World U.S. Politics Education Bay Area Chicago Texas N.Y. / Region Business Technology Science Health Sports Opinion Arts Style Travel Jobs Real Estate Autos February 8, 2012, 1:43 pm Do Asian-Americans Face Bias in Admissions at Elite Colleges? By DANIEL E. SLOTNIK 6:08 p.m. | Updated A statement from Princeton was added to the story. The Department of Education’s Office for Civil Rights is examining complaints thatHarvard and Princeton have discriminated against Asian-American undergraduate applicants, highlighting a concern of many Asian-American parents. The inquiry was first reported by Bloomberg News.<query> do asian americans face bias in admissions</query>\"}\n",
            "{\"id\": \"clueweb12-0000tw-00-14115___10\", \"contents\": \"By insisting on upholding affirmative action in college admissions, they ensure that America continues to be an extremely race sensitive society where everything is based on race. For Asian-Americans, I say take heart. Competition only makes you stronger. And who cares about the Ivy League, their mission is never to educate the best. Their main mission is to live off their “old money” prestige by rubber stamping the diploma of the offsprings of the rich and powerful, before ushering them into pre-ordained careers on Wall Street and Washington DC to further enhance the schools reputation and future coffer. A few “colored folks” get to come along for the ride just so they could claim equality. At the end of the day, an ivy league degree only matters if you want to a degree of the idle rich, i.e. a liberal arts degree, before going into law, wall street, politics or academia, all are careers that depend heavily on connections.<query> why is the ivy league important</query>\"}\n",
            "{\"id\": \"clueweb12-0000tw-00-14115___11\", \"contents\": \"If you don’t have a rich/famous daddy or mommy, and want a career in STEM or accounting, i.e. a major that actually leads to a real job, you should just go to a top school for the field you are interested in, or go to a big state university. None of the ivies are considered top schools in any STEM field. Let the idle rich have their own paradise without it being contaminated by the commoners. — Shameful Discrimination 3. February 8, 2012 3:34 pm Link I agree that it is most likely a myth. As is the completely academically focused Asian with no ECs. I think it’s likely that, as one person in the article pointed out, Asians as a group score higher on standardized tests and maybe even GPA. Yet if schools truly do a holistic review of candidates and pick them on an overall basis, if one were to look only at scores, it would look like Asians were being unfairly discriminated against.<query> what is the best school for stem</query>\"}\n",
            "{\"id\": \"clueweb12-0000tw-00-14115___12\", \"contents\": \"It’s speculative to have an opinion either way, and it is definitely worth looking at, to ensure fairness. Maybe the non-Asians as a group have more legacies, athletes, etc. than Asians and the non-Asians have lower scores as a group when compared to Asians – that may be all that is creating the perception of bias. Schools do want more than just test scores these days, for better or for worse. They want a “well-rounded student body” they say. Admissions at elite colleges is so difficult anymore, it’s no wonder that people look for reasons. My son has spectacular numbers, is an athlete, student government, clubs, volunteers, etc. yet got rejected at Stanford REA this year. I wasn’t surprised at all, as he has no serious “hook.” And the admission rate is ridiculously low after you subtract athletes, legacies, etc.<query> why are non asians more selective</query>\"}\n",
            "{\"id\": \"clueweb12-0000tw-00-14115___13\", \"contents\": \"Probably 2-3 percent. Such is life. — Kent Clarkfield 4. February 8, 2012 4:20 pm Link Yes, and it’s funny how diversity cuts only when it comes to academics. With sports, it has to all be about talent. Do people care about diversity there? In fact with Jeremy Lin blowing up recently, people should examine his road to where he is now. He is definitely the minority AND he had great success all the way from High School on but met adversity. Winning states in California and not getting recruited seriously for college play? Ethnicity a strike in sports, in academics, …either go all fair all the way or strive for diversity all the way. Don’t mix and match as you see convenient. — AsianM 5. February 8, 2012 5:19 pm Link In his statement, “What may seem to be racial bias “is actually caused by too many people applying to college,”” Mr. Jon Reider seems to say the complaint is because the total number of Asians getting rejected.<query> what percentage of college applicants are african american</query>\"}\n",
            "{\"id\": \"clueweb12-0000tw-00-14115___14\", \"contents\": \"That is not bias. The point is “all things equal, Asians are not getting in as some other ethnic groups are.” He is right to say, “We like to put blame on things.” However, to this reader, he is actually blaming people making the complaints. When he said, “I have not seen any pattern at selective colleges in this regard,” maybe the interviewer should have pointed him to the Espenshade study. As about Mr. Greene, his statement below seems to say that if one looks at the majors individually, then the the Espenshade type of study will show the claim of bias is a myth. I hope he can prove this IS a myth as that will be the best for everyone involved. This is what he said: “traditional emphasis on “Asian-American families directing their children to math, science, engineering and maybe business” could work against their admissions chances because “there’s not a broad representation of students applying for humanities, English, the arts.” — That Was Zen 6.<query> what is the espenshade study</query>\"}\n",
            "{\"id\": \"clueweb12-0000tw-00-14115___15\", \"contents\": \"February 8, 2012 5:31 pm Link It would be helpful to get some more detailed information, both application/admission statistics and descriptions of schools’ admissions processes, to evaluate this disturbing piece. The place to start would be simple statistics of the sort that make up a prima facie disparate impact claim in the world of employment discrimination litigation: for each school, what are the respective percentages of each racial/ethnic category in the applicant pool and the admitted group? Then, how do they break down into cohorts by SAT/ACT score and grade point average? To deal with some of the arguments by those quoted in the article (including Espenshade, who seems to be backpedaling away from his work in order to continue to support affirmative action for certain groups), how do factors other than race/ethnicity factor into the admissions decision?<query> what is the disparate impact claim</query>\"}\n",
            "{\"id\": \"clueweb12-0000tw-00-14115___16\", \"contents\": \"Are race/ethnicity looked at first in making a rough cut? Are the soft criteria like “leadership potential” looked at first? Are the objective and subjective factors all considered simultaneously? Does the admissions office have a target range based on proportional representation? Do they have a floor below which they will not go to pick up underrepresented minorities? Crucially, is the candidate’s race/ethnicity known to the admissions decision-makers when they are making subjective evaluations about “hooks”? In short, which element or elements of the admission process are causing the disparate impact, and why? Mr. Reider’s point that you need to control for each variable and compare apples to apples is sound as far as it goes, but it begs the question if points assigned for subjective variables are skewed to counter built-in headwinds as to test scores and grades so as to justify a racially pre-determined outcome.<query> which element of the admissions process is causing the disparate impact, and why?</query>\"}\n",
            "{\"id\": \"clueweb12-0000tw-00-14115___17\", \"contents\": \"One would really need an independent assessment of the applicants’ credentials for “leadership,” “creativity,” etc. to determine if they were fairly weighted. — Andrew 7. February 8, 2012 6:24 pm Link People want to believe that admissions is solely a numbers game–the kid with a 2300 SAT and 3.9 GPA should be admitted before a kid with a 2150 SAT and a 3.8 GPA. But for admissions people, those numbers are essentially identical. What makes the difference is what else those kids have done beyond the numbers — maybe the 2300 SAT kid is a member of the math team and plays piano, and the 2150 SAT kid has founded a literary magazine, has volunteered for many years for Habitat, has worked a summer job, and is a member of the math team and plays piano.<query> what is the difference between a 2300 sat and a 2150 s\"}\n",
            "{\"id\": \"clueweb12-0000tw-00-14115___18\", \"contents\": \"The second kids may be admitted over the first — regardless of racial background. — lp 8. February 8, 2012 8:20 pm Link University admissions in the US are not strictly quantitative. However, for many top flight universities outside the US they still are. Try Europe or Asia and come back to the States for grad school. — Scottish Non-Golfer 9. February 8, 2012 10:41 pm Link “as a cohort, Asian-Americans have the highest SAT and ACT scores.” In the book “SAT Wars: The Case for Test-Optional College Admissions”, previously reviewed in the Choice Blog, there is a chapter by Jay Rosner which presents evidence of “serious racial and gender biases in the question selection process for the SAT” (p. 202). Might it be possible that the SAT itself is biased in favor of Asian Americans over other racial groups, and if so, is this possibility being investigated as part of the OCR’s discrimination case?<query> which racial group has the highest sat scores</query>\"}\n"
          ]
        }
      ]
    },
    {
      "cell_type": "code",
      "source": [
        "!python -m pyserini.index.lucene \\\n",
        "  --collection JsonCollection \\\n",
        "  --input /content/sample_collection_jsonl \\\n",
        "  --index /content/drive/MyDrive/touche-2022-prototyping/indexes/baseline_index \\\n",
        "  --generator DefaultLuceneDocumentGenerator \\\n",
        "  --threads 4 \\\n",
        "  --storePositions --storeDocvectors --storeRaw"
      ],
      "metadata": {
        "id": "3yX6Va35mJIz",
        "colab": {
          "base_uri": "https://localhost:8080/"
        },
        "outputId": "fbcf7724-7e9c-438b-fb2b-9a5730ba473f"
      },
      "execution_count": 29,
      "outputs": [
        {
          "output_type": "stream",
          "name": "stdout",
          "text": [
            "WARNING: sun.reflect.Reflection.getCallerClass is not supported. This will impact performance.\n",
            "2022-04-02 13:00:33,191 INFO  [main] index.IndexCollection (IndexCollection.java:643) - Setting log level to INFO\n",
            "2022-04-02 13:00:33,198 INFO  [main] index.IndexCollection (IndexCollection.java:646) - Starting indexer...\n",
            "2022-04-02 13:00:33,198 INFO  [main] index.IndexCollection (IndexCollection.java:647) - ============ Loading Parameters ============\n",
            "2022-04-02 13:00:33,199 INFO  [main] index.IndexCollection (IndexCollection.java:648) - DocumentCollection path: /content/sample_collection_jsonl\n",
            "2022-04-02 13:00:33,200 INFO  [main] index.IndexCollection (IndexCollection.java:649) - CollectionClass: JsonCollection\n",
            "2022-04-02 13:00:33,205 INFO  [main] index.IndexCollection (IndexCollection.java:650) - Generator: DefaultLuceneDocumentGenerator\n",
            "2022-04-02 13:00:33,206 INFO  [main] index.IndexCollection (IndexCollection.java:651) - Threads: 4\n",
            "2022-04-02 13:00:33,206 INFO  [main] index.IndexCollection (IndexCollection.java:652) - Language: en\n",
            "2022-04-02 13:00:33,207 INFO  [main] index.IndexCollection (IndexCollection.java:653) - Stemmer: porter\n",
            "2022-04-02 13:00:33,207 INFO  [main] index.IndexCollection (IndexCollection.java:654) - Keep stopwords? false\n",
            "2022-04-02 13:00:33,208 INFO  [main] index.IndexCollection (IndexCollection.java:655) - Stopwords: null\n",
            "2022-04-02 13:00:33,208 INFO  [main] index.IndexCollection (IndexCollection.java:656) - Store positions? true\n",
            "2022-04-02 13:00:33,209 INFO  [main] index.IndexCollection (IndexCollection.java:657) - Store docvectors? true\n",
            "2022-04-02 13:00:33,209 INFO  [main] index.IndexCollection (IndexCollection.java:658) - Store document \"contents\" field? false\n",
            "2022-04-02 13:00:33,210 INFO  [main] index.IndexCollection (IndexCollection.java:659) - Store document \"raw\" field? true\n",
            "2022-04-02 13:00:33,210 INFO  [main] index.IndexCollection (IndexCollection.java:660) - Optimize (merge segments)? false\n",
            "2022-04-02 13:00:33,211 INFO  [main] index.IndexCollection (IndexCollection.java:661) - Whitelist: null\n",
            "2022-04-02 13:00:33,214 INFO  [main] index.IndexCollection (IndexCollection.java:662) - Pretokenized?: false\n",
            "2022-04-02 13:00:33,214 INFO  [main] index.IndexCollection (IndexCollection.java:682) - Directly building Lucene indexes...\n",
            "2022-04-02 13:00:33,215 INFO  [main] index.IndexCollection (IndexCollection.java:683) - Index path: /content/drive/MyDrive/touche-2022-prototyping/indexes/baseline_index\n",
            "2022-04-02 13:00:33,283 INFO  [main] index.IndexCollection (IndexCollection.java:738) - ============ Indexing Collection ============\n",
            "2022-04-02 13:00:33,607 INFO  [main] index.IndexCollection (IndexCollection.java:839) - Thread pool with 4 threads initialized.\n",
            "2022-04-02 13:00:33,608 INFO  [main] index.IndexCollection (IndexCollection.java:841) - Initializing collection in /content/sample_collection_jsonl\n",
            "2022-04-02 13:00:33,611 INFO  [main] index.IndexCollection (IndexCollection.java:850) - 1 file found\n",
            "2022-04-02 13:00:33,611 INFO  [main] index.IndexCollection (IndexCollection.java:851) - Starting to index...\n",
            "2022-04-02 13:01:33,624 INFO  [main] index.IndexCollection (IndexCollection.java:869) - 190,000 documents indexed\n",
            "2022-04-02 13:02:33,624 INFO  [main] index.IndexCollection (IndexCollection.java:869) - 430,000 documents indexed\n",
            "2022-04-02 13:03:33,625 INFO  [main] index.IndexCollection (IndexCollection.java:869) - 660,000 documents indexed\n",
            "2022-04-02 13:04:29,266 DEBUG [pool-2-thread-1] index.IndexCollection$LocalIndexerThread (IndexCollection.java:248) - sample_collection_jsonl/documents.jsonl: 868654 docs added.\n",
            "2022-04-02 13:05:01,387 INFO  [main] index.IndexCollection (IndexCollection.java:935) - Indexing Complete! 868,654 documents indexed\n",
            "2022-04-02 13:05:01,388 INFO  [main] index.IndexCollection (IndexCollection.java:936) - ============ Final Counter Values ============\n",
            "2022-04-02 13:05:01,388 INFO  [main] index.IndexCollection (IndexCollection.java:937) - indexed:          868,654\n",
            "2022-04-02 13:05:01,388 INFO  [main] index.IndexCollection (IndexCollection.java:938) - unindexable:            0\n",
            "2022-04-02 13:05:01,388 INFO  [main] index.IndexCollection (IndexCollection.java:939) - empty:                  0\n",
            "2022-04-02 13:05:01,389 INFO  [main] index.IndexCollection (IndexCollection.java:940) - skipped:                0\n",
            "2022-04-02 13:05:01,389 INFO  [main] index.IndexCollection (IndexCollection.java:941) - errors:                 0\n",
            "2022-04-02 13:05:01,396 INFO  [main] index.IndexCollection (IndexCollection.java:944) - Total 868,654 documents indexed in 00:04:28\n"
          ]
        }
      ]
    },
    {
      "cell_type": "code",
      "source": [
        "!ls /content/indexes/sample_collection_jsonl"
      ],
      "metadata": {
        "id": "DUUrPi0-mJON",
        "colab": {
          "base_uri": "https://localhost:8080/"
        },
        "outputId": "62beeef0-65b0-4767-a05e-6d3e9824dab4"
      },
      "execution_count": 14,
      "outputs": [
        {
          "output_type": "stream",
          "name": "stdout",
          "text": [
            "_0.fdm\t_0_Lucene80_0.dvd  _0_Lucene84_0.tim  _0.nvm  _0.tvx\n",
            "_0.fdt\t_0_Lucene80_0.dvm  _0_Lucene84_0.tip  _0.si   segments_1\n",
            "_0.fdx\t_0_Lucene84_0.doc  _0_Lucene84_0.tmd  _0.tvd  write.lock\n",
            "_0.fnm\t_0_Lucene84_0.pos  _0.nvd\t      _0.tvm\n"
          ]
        }
      ]
    },
    {
      "cell_type": "code",
      "source": [
        "from pyserini.search.lucene import LuceneSearcher\n",
        "searcher = LuceneSearcher('indexes/sample_collection_jsonl')\n",
        "hits = searcher.search('Who is stronger, Hulk or Superman?', k=12)\n",
        "# Value of K determines the number of documents that can be returned.\n",
        "print('Number of document matches from the index: '+str(len(hits)))\n",
        "# Attempted tuning BM25 and RM3, nothing has changed the document ranking below.\n",
        "for i in range(len(hits)):\n",
        "    print(f'{i+1} {hits[i].docid} {hits[i].score:.5f}')"
      ],
      "metadata": {
        "id": "ncVg0KYTmJQY",
        "colab": {
          "base_uri": "https://localhost:8080/"
        },
        "outputId": "d124aeb1-a750-46cd-b2e4-28974d0c62cb"
      },
      "execution_count": 15,
      "outputs": [
        {
          "output_type": "stream",
          "name": "stdout",
          "text": [
            "Number of document matches from the index: 12\n",
            "1 clueweb12-1400wb-06-30596___3 16.55650\n",
            "2 clueweb12-0605wb-29-30060___11 15.76430\n",
            "3 clueweb12-1709wb-12-07226___7 15.69540\n",
            "4 clueweb12-0605wb-29-30060___2 15.21990\n",
            "5 clueweb12-0904wb-33-14589___7 15.14270\n",
            "6 clueweb12-1400wb-06-30596___4 15.02100\n",
            "7 clueweb12-1411wb-25-14634___8 14.83110\n",
            "8 clueweb12-0605wb-29-30060___10 14.75490\n",
            "9 clueweb12-1014wb-84-07457___12 14.68790\n",
            "10 clueweb12-1400tw-67-08199___28 14.26160\n",
            "11 clueweb12-0306wb-63-29079___5 14.16490\n",
            "12 clueweb12-0605wb-57-17257___8 13.69220\n"
          ]
        }
      ]
    },
    {
      "cell_type": "code",
      "source": [
        "# Grab the raw text:\n",
        "print(hits[0].raw)\n",
        "print('\\n')\n",
        "# Grab the raw Lucene Document:\n",
        "print(hits[0].lucene_document)"
      ],
      "metadata": {
        "id": "7q1vTs9KmJfO",
        "colab": {
          "base_uri": "https://localhost:8080/"
        },
        "outputId": "97ac181d-2594-4a06-996d-a9fcbd2f09b0"
      },
      "execution_count": 16,
      "outputs": [
        {
          "output_type": "stream",
          "name": "stdout",
          "text": [
            "{\n",
            "  \"id\" : \"clueweb12-1400wb-06-30596___3\",\n",
            "  \"contents\" : \"There is a limit to how angry someone gets...even the Hulk and even at his angriest he wouldn't be as strong as Superman. No one really knows how strong the man of steel is and perhaps neither does he! Many wrongly think that just because Hulk is bigger and looks stronger than it means he is stronger. Superman can move planets...need I say more! Others believe Hulk would win because they're likely Marvel fan boys. Superman has defeated powerful opponents like Darkseid,Mongrel,Parasite,Doomsday,and General Zod;several of whom could likely take Hulk! Superman has more varied powers and because he's smarter can be more resourceful in using them. Speaking of intelligence,how the hell can anyone think that Superman isn't smarter than a human,even one as brilliant as Dr.Bruce Banner. Superman/Kal-El is not only the son of Jor-El,Krypton's most brilliant scientist,but he's outsmarted Lex Luthor(one of the smartest people on earth)and Brainiac(the smartest artificial being ever created)so yes I think he's smarter than Banner.<query> who is stronger superman or hulk</query>\"\n",
            "}\n",
            "\n",
            "\n",
            "<org.apache.lucene.document.Document at 0x7f8677dd3050 jclass=org/apache/lucene/document/Document jself=<LocalRef obj=0x556981b62db0 at 0x7f8677dfc910>>\n"
          ]
        }
      ]
    },
    {
      "cell_type": "code",
      "source": [
        "# define function for loading all the topics from the topics files.\n",
        "def parse_xml(path):\n",
        "  answer_list = []\n",
        "  xmldoc = minidom.parse(path)\n",
        "  itemlist = xmldoc.getElementsByTagName('topics')\n",
        "  topic_list = itemlist[0].getElementsByTagName('topic')\n",
        "  for topic in topic_list:\n",
        "    tuple_for_add = tuple((topic.getElementsByTagName('number')[0].firstChild.nodeValue, topic.getElementsByTagName('title')[0].firstChild.nodeValue))\n",
        "    answer_list.append(tuple_for_add)\n",
        "  parsed=pd.DataFrame(answer_list, columns=[\"Number\",\"Title\"])\n",
        "  return parsed"
      ],
      "metadata": {
        "id": "ovy6r72QnxE2"
      },
      "execution_count": 18,
      "outputs": []
    },
    {
      "cell_type": "code",
      "source": [
        "topics_2021 = parse_xml(\"/content/drive/MyDrive/touche-2022-prototyping/topics-task2-51-100.xml\")\n",
        "topics_2021.head()"
      ],
      "metadata": {
        "colab": {
          "base_uri": "https://localhost:8080/",
          "height": 206
        },
        "id": "_j3Y4FrTN4Qx",
        "outputId": "eda3696e-1136-4923-cd15-cc07a094b0df"
      },
      "execution_count": 19,
      "outputs": [
        {
          "output_type": "execute_result",
          "data": {
            "text/plain": [
              "  Number                                              Title\n",
              "0     51  What is better at reducing fever in children, ...\n",
              "1     52                    What are the best rice cookers?\n",
              "2     53              Should I buy steel or ceramic knives?\n",
              "3     54  Is morning or afternoon sun the best for fruit...\n",
              "4     55  What is better for back pain, chiropractic the..."
            ],
            "text/html": [
              "\n",
              "  <div id=\"df-ed7df5ed-a592-437a-9dd2-95faa8e64ed7\">\n",
              "    <div class=\"colab-df-container\">\n",
              "      <div>\n",
              "<style scoped>\n",
              "    .dataframe tbody tr th:only-of-type {\n",
              "        vertical-align: middle;\n",
              "    }\n",
              "\n",
              "    .dataframe tbody tr th {\n",
              "        vertical-align: top;\n",
              "    }\n",
              "\n",
              "    .dataframe thead th {\n",
              "        text-align: right;\n",
              "    }\n",
              "</style>\n",
              "<table border=\"1\" class=\"dataframe\">\n",
              "  <thead>\n",
              "    <tr style=\"text-align: right;\">\n",
              "      <th></th>\n",
              "      <th>Number</th>\n",
              "      <th>Title</th>\n",
              "    </tr>\n",
              "  </thead>\n",
              "  <tbody>\n",
              "    <tr>\n",
              "      <th>0</th>\n",
              "      <td>51</td>\n",
              "      <td>What is better at reducing fever in children, ...</td>\n",
              "    </tr>\n",
              "    <tr>\n",
              "      <th>1</th>\n",
              "      <td>52</td>\n",
              "      <td>What are the best rice cookers?</td>\n",
              "    </tr>\n",
              "    <tr>\n",
              "      <th>2</th>\n",
              "      <td>53</td>\n",
              "      <td>Should I buy steel or ceramic knives?</td>\n",
              "    </tr>\n",
              "    <tr>\n",
              "      <th>3</th>\n",
              "      <td>54</td>\n",
              "      <td>Is morning or afternoon sun the best for fruit...</td>\n",
              "    </tr>\n",
              "    <tr>\n",
              "      <th>4</th>\n",
              "      <td>55</td>\n",
              "      <td>What is better for back pain, chiropractic the...</td>\n",
              "    </tr>\n",
              "  </tbody>\n",
              "</table>\n",
              "</div>\n",
              "      <button class=\"colab-df-convert\" onclick=\"convertToInteractive('df-ed7df5ed-a592-437a-9dd2-95faa8e64ed7')\"\n",
              "              title=\"Convert this dataframe to an interactive table.\"\n",
              "              style=\"display:none;\">\n",
              "        \n",
              "  <svg xmlns=\"http://www.w3.org/2000/svg\" height=\"24px\"viewBox=\"0 0 24 24\"\n",
              "       width=\"24px\">\n",
              "    <path d=\"M0 0h24v24H0V0z\" fill=\"none\"/>\n",
              "    <path d=\"M18.56 5.44l.94 2.06.94-2.06 2.06-.94-2.06-.94-.94-2.06-.94 2.06-2.06.94zm-11 1L8.5 8.5l.94-2.06 2.06-.94-2.06-.94L8.5 2.5l-.94 2.06-2.06.94zm10 10l.94 2.06.94-2.06 2.06-.94-2.06-.94-.94-2.06-.94 2.06-2.06.94z\"/><path d=\"M17.41 7.96l-1.37-1.37c-.4-.4-.92-.59-1.43-.59-.52 0-1.04.2-1.43.59L10.3 9.45l-7.72 7.72c-.78.78-.78 2.05 0 2.83L4 21.41c.39.39.9.59 1.41.59.51 0 1.02-.2 1.41-.59l7.78-7.78 2.81-2.81c.8-.78.8-2.07 0-2.86zM5.41 20L4 18.59l7.72-7.72 1.47 1.35L5.41 20z\"/>\n",
              "  </svg>\n",
              "      </button>\n",
              "      \n",
              "  <style>\n",
              "    .colab-df-container {\n",
              "      display:flex;\n",
              "      flex-wrap:wrap;\n",
              "      gap: 12px;\n",
              "    }\n",
              "\n",
              "    .colab-df-convert {\n",
              "      background-color: #E8F0FE;\n",
              "      border: none;\n",
              "      border-radius: 50%;\n",
              "      cursor: pointer;\n",
              "      display: none;\n",
              "      fill: #1967D2;\n",
              "      height: 32px;\n",
              "      padding: 0 0 0 0;\n",
              "      width: 32px;\n",
              "    }\n",
              "\n",
              "    .colab-df-convert:hover {\n",
              "      background-color: #E2EBFA;\n",
              "      box-shadow: 0px 1px 2px rgba(60, 64, 67, 0.3), 0px 1px 3px 1px rgba(60, 64, 67, 0.15);\n",
              "      fill: #174EA6;\n",
              "    }\n",
              "\n",
              "    [theme=dark] .colab-df-convert {\n",
              "      background-color: #3B4455;\n",
              "      fill: #D2E3FC;\n",
              "    }\n",
              "\n",
              "    [theme=dark] .colab-df-convert:hover {\n",
              "      background-color: #434B5C;\n",
              "      box-shadow: 0px 1px 3px 1px rgba(0, 0, 0, 0.15);\n",
              "      filter: drop-shadow(0px 1px 2px rgba(0, 0, 0, 0.3));\n",
              "      fill: #FFFFFF;\n",
              "    }\n",
              "  </style>\n",
              "\n",
              "      <script>\n",
              "        const buttonEl =\n",
              "          document.querySelector('#df-ed7df5ed-a592-437a-9dd2-95faa8e64ed7 button.colab-df-convert');\n",
              "        buttonEl.style.display =\n",
              "          google.colab.kernel.accessAllowed ? 'block' : 'none';\n",
              "\n",
              "        async function convertToInteractive(key) {\n",
              "          const element = document.querySelector('#df-ed7df5ed-a592-437a-9dd2-95faa8e64ed7');\n",
              "          const dataTable =\n",
              "            await google.colab.kernel.invokeFunction('convertToInteractive',\n",
              "                                                     [key], {});\n",
              "          if (!dataTable) return;\n",
              "\n",
              "          const docLinkHtml = 'Like what you see? Visit the ' +\n",
              "            '<a target=\"_blank\" href=https://colab.research.google.com/notebooks/data_table.ipynb>data table notebook</a>'\n",
              "            + ' to learn more about interactive tables.';\n",
              "          element.innerHTML = '';\n",
              "          dataTable['output_type'] = 'display_data';\n",
              "          await google.colab.output.renderOutput(dataTable, element);\n",
              "          const docLink = document.createElement('div');\n",
              "          docLink.innerHTML = docLinkHtml;\n",
              "          element.appendChild(docLink);\n",
              "        }\n",
              "      </script>\n",
              "    </div>\n",
              "  </div>\n",
              "  "
            ]
          },
          "metadata": {},
          "execution_count": 19
        }
      ]
    },
    {
      "cell_type": "code",
      "source": [
        "# Run loop for topics_2021 data, store retrieved in order of appearance m=275\n",
        "solution_dict = {} # topic_id, corresponding_document list.\n",
        "for id_, q_ in zip(topics_2021['Number'], topics_2021['Title']):\n",
        "    hits = searcher.search(q_, k=500)\n",
        "    d_list = []\n",
        "    for h_ in hits:\n",
        "        d_= h_.docid.split('___')[0]\n",
        "        if d_ not in d_list:\n",
        "            d_list.append(d_)\n",
        "\n",
        "    solution_dict[id_] = d_list"
      ],
      "metadata": {
        "id": "LI_5wN_hN4S0"
      },
      "execution_count": 121,
      "outputs": []
    },
    {
      "cell_type": "code",
      "source": [
        "searcher_opt = LuceneSearcher('indexes/sample_collection_jsonl')\n",
        "searcher_opt.set_bm25(1.2, 0.68)\n",
        "hits = searcher_opt.search('Who is stronger, Hulk or Superman?', k=12)\n",
        "# Value of K determines the number of documents that can be returned.\n",
        "print('Number of document matches from the index: '+str(len(hits)))\n",
        "for i in range(len(hits)):\n",
        "    print(f'{i+1} {hits[i].docid} {hits[i].score:.5f}')"
      ],
      "metadata": {
        "colab": {
          "base_uri": "https://localhost:8080/"
        },
        "id": "-9tQDlqdVhzz",
        "outputId": "09c61a72-d31e-4afe-97d8-ebeaa6bbcc6f"
      },
      "execution_count": 102,
      "outputs": [
        {
          "output_type": "stream",
          "name": "stdout",
          "text": [
            "Number of document matches from the index: 12\n",
            "1 clueweb12-1400wb-06-30596___3 15.37180\n",
            "2 clueweb12-1709wb-12-07226___7 14.85930\n",
            "3 clueweb12-0605wb-29-30060___11 14.84560\n",
            "4 clueweb12-0605wb-29-30060___10 13.93880\n",
            "5 clueweb12-0605wb-29-30060___2 13.85450\n",
            "6 clueweb12-1400wb-06-30596___4 13.81460\n",
            "7 clueweb12-0904wb-33-14589___7 13.78280\n",
            "8 clueweb12-1411wb-25-14634___8 13.60230\n",
            "9 clueweb12-1014wb-84-07457___12 13.35340\n",
            "10 clueweb12-1400tw-67-08199___28 13.04680\n",
            "11 clueweb12-0306wb-63-29079___5 12.96960\n",
            "12 clueweb12-0605wb-57-17257___8 12.88170\n"
          ]
        }
      ]
    },
    {
      "cell_type": "code",
      "source": [
        "# Run loop for topics_2021 data, store retrieved in order of appearance m=275\n",
        "solution_dict_opt = {} # topic_id, corresponding_document list.\n",
        "for id_, q_ in zip(topics_2021['Number'], topics_2021['Title']):\n",
        "    hits = searcher_opt.search(q_, k=500)\n",
        "    d_list = []\n",
        "    for h_ in hits:\n",
        "        d_= h_.docid.split('___')[0]\n",
        "        if d_ not in d_list:\n",
        "            d_list.append(d_)\n",
        "\n",
        "    solution_dict_opt[id_] = d_list"
      ],
      "metadata": {
        "id": "55e52EEcQIqS"
      },
      "execution_count": 122,
      "outputs": []
    },
    {
      "cell_type": "code",
      "source": [
        "# creating new qrel formatted file which only has the matching doc-ids from corpus.\n",
        "jsonObj = pd.read_json(path_or_buf='drive/My Drive/touche-2022-prototyping/touche-task2-passages-version-002-expanded-with-doc-t5-query.jsonl', lines=True)\n",
        "jsonObj[\"old_id\"]=jsonObj[\"id\"].str.split(\"___\",expand=True)[0]\n",
        "documents_2021=jsonObj.groupby(by=\"old_id\")[\"contents\"].apply(\" \".join).reset_index()\n",
        "del jsonObj\n",
        "documents_2021.head()"
      ],
      "metadata": {
        "colab": {
          "base_uri": "https://localhost:8080/",
          "height": 206
        },
        "id": "l8YmOTS8QI1e",
        "outputId": "e19ea62b-1272-4f0e-ec8c-e30229916a6d"
      },
      "execution_count": 32,
      "outputs": [
        {
          "output_type": "execute_result",
          "data": {
            "text/plain": [
              "                      old_id  \\\n",
              "0  clueweb12-0000tw-00-14115   \n",
              "1  clueweb12-0000tw-00-15738   \n",
              "2  clueweb12-0000tw-00-17905   \n",
              "3  clueweb12-0000tw-01-02230   \n",
              "4  clueweb12-0000tw-01-15084   \n",
              "\n",
              "                                            contents  \n",
              "0  Do Asian-Americans Face Bias in Admissions at ...  \n",
              "1  Big Data Analytics a Key Enabler for Social CR...  \n",
              "2  Best Bets: Fern brings magic to Milford - Delm...  \n",
              "3  Python Data Analysis Library — pandas: Python ...  \n",
              "4  MILLARWORLD WEEK: Mark Millar’s Master Plan | ...  "
            ],
            "text/html": [
              "\n",
              "  <div id=\"df-1794cd36-3253-48ba-9a66-db7d2b5122a7\">\n",
              "    <div class=\"colab-df-container\">\n",
              "      <div>\n",
              "<style scoped>\n",
              "    .dataframe tbody tr th:only-of-type {\n",
              "        vertical-align: middle;\n",
              "    }\n",
              "\n",
              "    .dataframe tbody tr th {\n",
              "        vertical-align: top;\n",
              "    }\n",
              "\n",
              "    .dataframe thead th {\n",
              "        text-align: right;\n",
              "    }\n",
              "</style>\n",
              "<table border=\"1\" class=\"dataframe\">\n",
              "  <thead>\n",
              "    <tr style=\"text-align: right;\">\n",
              "      <th></th>\n",
              "      <th>old_id</th>\n",
              "      <th>contents</th>\n",
              "    </tr>\n",
              "  </thead>\n",
              "  <tbody>\n",
              "    <tr>\n",
              "      <th>0</th>\n",
              "      <td>clueweb12-0000tw-00-14115</td>\n",
              "      <td>Do Asian-Americans Face Bias in Admissions at ...</td>\n",
              "    </tr>\n",
              "    <tr>\n",
              "      <th>1</th>\n",
              "      <td>clueweb12-0000tw-00-15738</td>\n",
              "      <td>Big Data Analytics a Key Enabler for Social CR...</td>\n",
              "    </tr>\n",
              "    <tr>\n",
              "      <th>2</th>\n",
              "      <td>clueweb12-0000tw-00-17905</td>\n",
              "      <td>Best Bets: Fern brings magic to Milford - Delm...</td>\n",
              "    </tr>\n",
              "    <tr>\n",
              "      <th>3</th>\n",
              "      <td>clueweb12-0000tw-01-02230</td>\n",
              "      <td>Python Data Analysis Library — pandas: Python ...</td>\n",
              "    </tr>\n",
              "    <tr>\n",
              "      <th>4</th>\n",
              "      <td>clueweb12-0000tw-01-15084</td>\n",
              "      <td>MILLARWORLD WEEK: Mark Millar’s Master Plan | ...</td>\n",
              "    </tr>\n",
              "  </tbody>\n",
              "</table>\n",
              "</div>\n",
              "      <button class=\"colab-df-convert\" onclick=\"convertToInteractive('df-1794cd36-3253-48ba-9a66-db7d2b5122a7')\"\n",
              "              title=\"Convert this dataframe to an interactive table.\"\n",
              "              style=\"display:none;\">\n",
              "        \n",
              "  <svg xmlns=\"http://www.w3.org/2000/svg\" height=\"24px\"viewBox=\"0 0 24 24\"\n",
              "       width=\"24px\">\n",
              "    <path d=\"M0 0h24v24H0V0z\" fill=\"none\"/>\n",
              "    <path d=\"M18.56 5.44l.94 2.06.94-2.06 2.06-.94-2.06-.94-.94-2.06-.94 2.06-2.06.94zm-11 1L8.5 8.5l.94-2.06 2.06-.94-2.06-.94L8.5 2.5l-.94 2.06-2.06.94zm10 10l.94 2.06.94-2.06 2.06-.94-2.06-.94-.94-2.06-.94 2.06-2.06.94z\"/><path d=\"M17.41 7.96l-1.37-1.37c-.4-.4-.92-.59-1.43-.59-.52 0-1.04.2-1.43.59L10.3 9.45l-7.72 7.72c-.78.78-.78 2.05 0 2.83L4 21.41c.39.39.9.59 1.41.59.51 0 1.02-.2 1.41-.59l7.78-7.78 2.81-2.81c.8-.78.8-2.07 0-2.86zM5.41 20L4 18.59l7.72-7.72 1.47 1.35L5.41 20z\"/>\n",
              "  </svg>\n",
              "      </button>\n",
              "      \n",
              "  <style>\n",
              "    .colab-df-container {\n",
              "      display:flex;\n",
              "      flex-wrap:wrap;\n",
              "      gap: 12px;\n",
              "    }\n",
              "\n",
              "    .colab-df-convert {\n",
              "      background-color: #E8F0FE;\n",
              "      border: none;\n",
              "      border-radius: 50%;\n",
              "      cursor: pointer;\n",
              "      display: none;\n",
              "      fill: #1967D2;\n",
              "      height: 32px;\n",
              "      padding: 0 0 0 0;\n",
              "      width: 32px;\n",
              "    }\n",
              "\n",
              "    .colab-df-convert:hover {\n",
              "      background-color: #E2EBFA;\n",
              "      box-shadow: 0px 1px 2px rgba(60, 64, 67, 0.3), 0px 1px 3px 1px rgba(60, 64, 67, 0.15);\n",
              "      fill: #174EA6;\n",
              "    }\n",
              "\n",
              "    [theme=dark] .colab-df-convert {\n",
              "      background-color: #3B4455;\n",
              "      fill: #D2E3FC;\n",
              "    }\n",
              "\n",
              "    [theme=dark] .colab-df-convert:hover {\n",
              "      background-color: #434B5C;\n",
              "      box-shadow: 0px 1px 3px 1px rgba(0, 0, 0, 0.15);\n",
              "      filter: drop-shadow(0px 1px 2px rgba(0, 0, 0, 0.3));\n",
              "      fill: #FFFFFF;\n",
              "    }\n",
              "  </style>\n",
              "\n",
              "      <script>\n",
              "        const buttonEl =\n",
              "          document.querySelector('#df-1794cd36-3253-48ba-9a66-db7d2b5122a7 button.colab-df-convert');\n",
              "        buttonEl.style.display =\n",
              "          google.colab.kernel.accessAllowed ? 'block' : 'none';\n",
              "\n",
              "        async function convertToInteractive(key) {\n",
              "          const element = document.querySelector('#df-1794cd36-3253-48ba-9a66-db7d2b5122a7');\n",
              "          const dataTable =\n",
              "            await google.colab.kernel.invokeFunction('convertToInteractive',\n",
              "                                                     [key], {});\n",
              "          if (!dataTable) return;\n",
              "\n",
              "          const docLinkHtml = 'Like what you see? Visit the ' +\n",
              "            '<a target=\"_blank\" href=https://colab.research.google.com/notebooks/data_table.ipynb>data table notebook</a>'\n",
              "            + ' to learn more about interactive tables.';\n",
              "          element.innerHTML = '';\n",
              "          dataTable['output_type'] = 'display_data';\n",
              "          await google.colab.output.renderOutput(dataTable, element);\n",
              "          const docLink = document.createElement('div');\n",
              "          docLink.innerHTML = docLinkHtml;\n",
              "          element.appendChild(docLink);\n",
              "        }\n",
              "      </script>\n",
              "    </div>\n",
              "  </div>\n",
              "  "
            ]
          },
          "metadata": {},
          "execution_count": 32
        }
      ]
    },
    {
      "cell_type": "code",
      "source": [
        "rel_2021 = pd.read_csv('/content/drive/MyDrive/touche-2022-prototyping/touche-task2-51-100-relevance.qrels',\n",
        "                        sep=\"\\s+\", \n",
        "                        names=[\"qid\", \"no\", \"doc\", \"rel\"])\n",
        "rel_2021 = rel_2021.astype(str)\n",
        "rel_2021.head()"
      ],
      "metadata": {
        "colab": {
          "base_uri": "https://localhost:8080/",
          "height": 206
        },
        "id": "GVOMMhnFQI7R",
        "outputId": "c736847f-61bf-4f27-bfe8-eed9907006ef"
      },
      "execution_count": 33,
      "outputs": [
        {
          "output_type": "execute_result",
          "data": {
            "text/plain": [
              "  qid no                        doc rel\n",
              "0  54  0  clueweb12-0205wb-64-11095   0\n",
              "1  54  0  clueweb12-0501wb-64-06459   1\n",
              "2  54  0  clueweb12-0207wb-30-15337   0\n",
              "3  54  0  clueweb12-0906wb-38-27123   0\n",
              "4  54  0  clueweb12-0907wb-55-11510   0"
            ],
            "text/html": [
              "\n",
              "  <div id=\"df-436308cc-1505-45f5-936c-a5a1f15d5f74\">\n",
              "    <div class=\"colab-df-container\">\n",
              "      <div>\n",
              "<style scoped>\n",
              "    .dataframe tbody tr th:only-of-type {\n",
              "        vertical-align: middle;\n",
              "    }\n",
              "\n",
              "    .dataframe tbody tr th {\n",
              "        vertical-align: top;\n",
              "    }\n",
              "\n",
              "    .dataframe thead th {\n",
              "        text-align: right;\n",
              "    }\n",
              "</style>\n",
              "<table border=\"1\" class=\"dataframe\">\n",
              "  <thead>\n",
              "    <tr style=\"text-align: right;\">\n",
              "      <th></th>\n",
              "      <th>qid</th>\n",
              "      <th>no</th>\n",
              "      <th>doc</th>\n",
              "      <th>rel</th>\n",
              "    </tr>\n",
              "  </thead>\n",
              "  <tbody>\n",
              "    <tr>\n",
              "      <th>0</th>\n",
              "      <td>54</td>\n",
              "      <td>0</td>\n",
              "      <td>clueweb12-0205wb-64-11095</td>\n",
              "      <td>0</td>\n",
              "    </tr>\n",
              "    <tr>\n",
              "      <th>1</th>\n",
              "      <td>54</td>\n",
              "      <td>0</td>\n",
              "      <td>clueweb12-0501wb-64-06459</td>\n",
              "      <td>1</td>\n",
              "    </tr>\n",
              "    <tr>\n",
              "      <th>2</th>\n",
              "      <td>54</td>\n",
              "      <td>0</td>\n",
              "      <td>clueweb12-0207wb-30-15337</td>\n",
              "      <td>0</td>\n",
              "    </tr>\n",
              "    <tr>\n",
              "      <th>3</th>\n",
              "      <td>54</td>\n",
              "      <td>0</td>\n",
              "      <td>clueweb12-0906wb-38-27123</td>\n",
              "      <td>0</td>\n",
              "    </tr>\n",
              "    <tr>\n",
              "      <th>4</th>\n",
              "      <td>54</td>\n",
              "      <td>0</td>\n",
              "      <td>clueweb12-0907wb-55-11510</td>\n",
              "      <td>0</td>\n",
              "    </tr>\n",
              "  </tbody>\n",
              "</table>\n",
              "</div>\n",
              "      <button class=\"colab-df-convert\" onclick=\"convertToInteractive('df-436308cc-1505-45f5-936c-a5a1f15d5f74')\"\n",
              "              title=\"Convert this dataframe to an interactive table.\"\n",
              "              style=\"display:none;\">\n",
              "        \n",
              "  <svg xmlns=\"http://www.w3.org/2000/svg\" height=\"24px\"viewBox=\"0 0 24 24\"\n",
              "       width=\"24px\">\n",
              "    <path d=\"M0 0h24v24H0V0z\" fill=\"none\"/>\n",
              "    <path d=\"M18.56 5.44l.94 2.06.94-2.06 2.06-.94-2.06-.94-.94-2.06-.94 2.06-2.06.94zm-11 1L8.5 8.5l.94-2.06 2.06-.94-2.06-.94L8.5 2.5l-.94 2.06-2.06.94zm10 10l.94 2.06.94-2.06 2.06-.94-2.06-.94-.94-2.06-.94 2.06-2.06.94z\"/><path d=\"M17.41 7.96l-1.37-1.37c-.4-.4-.92-.59-1.43-.59-.52 0-1.04.2-1.43.59L10.3 9.45l-7.72 7.72c-.78.78-.78 2.05 0 2.83L4 21.41c.39.39.9.59 1.41.59.51 0 1.02-.2 1.41-.59l7.78-7.78 2.81-2.81c.8-.78.8-2.07 0-2.86zM5.41 20L4 18.59l7.72-7.72 1.47 1.35L5.41 20z\"/>\n",
              "  </svg>\n",
              "      </button>\n",
              "      \n",
              "  <style>\n",
              "    .colab-df-container {\n",
              "      display:flex;\n",
              "      flex-wrap:wrap;\n",
              "      gap: 12px;\n",
              "    }\n",
              "\n",
              "    .colab-df-convert {\n",
              "      background-color: #E8F0FE;\n",
              "      border: none;\n",
              "      border-radius: 50%;\n",
              "      cursor: pointer;\n",
              "      display: none;\n",
              "      fill: #1967D2;\n",
              "      height: 32px;\n",
              "      padding: 0 0 0 0;\n",
              "      width: 32px;\n",
              "    }\n",
              "\n",
              "    .colab-df-convert:hover {\n",
              "      background-color: #E2EBFA;\n",
              "      box-shadow: 0px 1px 2px rgba(60, 64, 67, 0.3), 0px 1px 3px 1px rgba(60, 64, 67, 0.15);\n",
              "      fill: #174EA6;\n",
              "    }\n",
              "\n",
              "    [theme=dark] .colab-df-convert {\n",
              "      background-color: #3B4455;\n",
              "      fill: #D2E3FC;\n",
              "    }\n",
              "\n",
              "    [theme=dark] .colab-df-convert:hover {\n",
              "      background-color: #434B5C;\n",
              "      box-shadow: 0px 1px 3px 1px rgba(0, 0, 0, 0.15);\n",
              "      filter: drop-shadow(0px 1px 2px rgba(0, 0, 0, 0.3));\n",
              "      fill: #FFFFFF;\n",
              "    }\n",
              "  </style>\n",
              "\n",
              "      <script>\n",
              "        const buttonEl =\n",
              "          document.querySelector('#df-436308cc-1505-45f5-936c-a5a1f15d5f74 button.colab-df-convert');\n",
              "        buttonEl.style.display =\n",
              "          google.colab.kernel.accessAllowed ? 'block' : 'none';\n",
              "\n",
              "        async function convertToInteractive(key) {\n",
              "          const element = document.querySelector('#df-436308cc-1505-45f5-936c-a5a1f15d5f74');\n",
              "          const dataTable =\n",
              "            await google.colab.kernel.invokeFunction('convertToInteractive',\n",
              "                                                     [key], {});\n",
              "          if (!dataTable) return;\n",
              "\n",
              "          const docLinkHtml = 'Like what you see? Visit the ' +\n",
              "            '<a target=\"_blank\" href=https://colab.research.google.com/notebooks/data_table.ipynb>data table notebook</a>'\n",
              "            + ' to learn more about interactive tables.';\n",
              "          element.innerHTML = '';\n",
              "          dataTable['output_type'] = 'display_data';\n",
              "          await google.colab.output.renderOutput(dataTable, element);\n",
              "          const docLink = document.createElement('div');\n",
              "          docLink.innerHTML = docLinkHtml;\n",
              "          element.appendChild(docLink);\n",
              "        }\n",
              "      </script>\n",
              "    </div>\n",
              "  </div>\n",
              "  "
            ]
          },
          "metadata": {},
          "execution_count": 33
        }
      ]
    },
    {
      "cell_type": "code",
      "source": [
        "# printing the data types\n",
        "print(topics_2021.dtypes)\n",
        "print('\\n')\n",
        "print(rel_2021.dtypes)"
      ],
      "metadata": {
        "colab": {
          "base_uri": "https://localhost:8080/"
        },
        "id": "zf3C5wK2bn-5",
        "outputId": "eb0539f5-6be7-4311-8359-a0062e346915"
      },
      "execution_count": 36,
      "outputs": [
        {
          "output_type": "stream",
          "name": "stdout",
          "text": [
            "Number    object\n",
            "Title     object\n",
            "dtype: object\n",
            "\n",
            "\n",
            "qid    object\n",
            "no     object\n",
            "doc    object\n",
            "rel    object\n",
            "dtype: object\n"
          ]
        }
      ]
    },
    {
      "cell_type": "code",
      "source": [
        "percentage=[]\n",
        "not_common_docs=[]\n",
        "for qid in topics_2021[\"Number\"]:\n",
        "    relevant=rel_2021.loc[rel_2021[\"qid\"]==qid][\"doc\"]\n",
        "    intersection=set(relevant) & set(documents_2021[\"old_id\"])\n",
        "    not_common=list(set(relevant) -set(documents_2021[\"old_id\"]))\n",
        "    percent=len(intersection)/len(relevant)\n",
        "    not_common_docs.append(not_common)\n",
        "    percentage.append({\"title_id\":qid,\"Percentage\":percent,\"Not_common\":not_common})\n",
        "df=pd.DataFrame(percentage)\n",
        "df.head()"
      ],
      "metadata": {
        "colab": {
          "base_uri": "https://localhost:8080/",
          "height": 234
        },
        "id": "7335735rboBn",
        "outputId": "a921f8ac-7f10-4d99-bb59-841cbe239c49"
      },
      "execution_count": 38,
      "outputs": [
        {
          "output_type": "execute_result",
          "data": {
            "text/plain": [
              "  title_id  Percentage                                         Not_common\n",
              "0       51    0.809524  [clueweb12-0000wb-65-16624, clueweb12-0005wb-4...\n",
              "1       52    0.909091  [clueweb12-1806wb-58-25301, clueweb12-1303wb-1...\n",
              "2       53    0.947368  [clueweb12-0606wb-89-10483, clueweb12-1503wb-1...\n",
              "3       54    0.933333  [clueweb12-0906wb-38-27122, clueweb12-0503wb-8...\n",
              "4       55    0.975000                        [clueweb12-1509wb-36-29085]"
            ],
            "text/html": [
              "\n",
              "  <div id=\"df-2cc15d1a-1c72-4056-ba97-37edd2236853\">\n",
              "    <div class=\"colab-df-container\">\n",
              "      <div>\n",
              "<style scoped>\n",
              "    .dataframe tbody tr th:only-of-type {\n",
              "        vertical-align: middle;\n",
              "    }\n",
              "\n",
              "    .dataframe tbody tr th {\n",
              "        vertical-align: top;\n",
              "    }\n",
              "\n",
              "    .dataframe thead th {\n",
              "        text-align: right;\n",
              "    }\n",
              "</style>\n",
              "<table border=\"1\" class=\"dataframe\">\n",
              "  <thead>\n",
              "    <tr style=\"text-align: right;\">\n",
              "      <th></th>\n",
              "      <th>title_id</th>\n",
              "      <th>Percentage</th>\n",
              "      <th>Not_common</th>\n",
              "    </tr>\n",
              "  </thead>\n",
              "  <tbody>\n",
              "    <tr>\n",
              "      <th>0</th>\n",
              "      <td>51</td>\n",
              "      <td>0.809524</td>\n",
              "      <td>[clueweb12-0000wb-65-16624, clueweb12-0005wb-4...</td>\n",
              "    </tr>\n",
              "    <tr>\n",
              "      <th>1</th>\n",
              "      <td>52</td>\n",
              "      <td>0.909091</td>\n",
              "      <td>[clueweb12-1806wb-58-25301, clueweb12-1303wb-1...</td>\n",
              "    </tr>\n",
              "    <tr>\n",
              "      <th>2</th>\n",
              "      <td>53</td>\n",
              "      <td>0.947368</td>\n",
              "      <td>[clueweb12-0606wb-89-10483, clueweb12-1503wb-1...</td>\n",
              "    </tr>\n",
              "    <tr>\n",
              "      <th>3</th>\n",
              "      <td>54</td>\n",
              "      <td>0.933333</td>\n",
              "      <td>[clueweb12-0906wb-38-27122, clueweb12-0503wb-8...</td>\n",
              "    </tr>\n",
              "    <tr>\n",
              "      <th>4</th>\n",
              "      <td>55</td>\n",
              "      <td>0.975000</td>\n",
              "      <td>[clueweb12-1509wb-36-29085]</td>\n",
              "    </tr>\n",
              "  </tbody>\n",
              "</table>\n",
              "</div>\n",
              "      <button class=\"colab-df-convert\" onclick=\"convertToInteractive('df-2cc15d1a-1c72-4056-ba97-37edd2236853')\"\n",
              "              title=\"Convert this dataframe to an interactive table.\"\n",
              "              style=\"display:none;\">\n",
              "        \n",
              "  <svg xmlns=\"http://www.w3.org/2000/svg\" height=\"24px\"viewBox=\"0 0 24 24\"\n",
              "       width=\"24px\">\n",
              "    <path d=\"M0 0h24v24H0V0z\" fill=\"none\"/>\n",
              "    <path d=\"M18.56 5.44l.94 2.06.94-2.06 2.06-.94-2.06-.94-.94-2.06-.94 2.06-2.06.94zm-11 1L8.5 8.5l.94-2.06 2.06-.94-2.06-.94L8.5 2.5l-.94 2.06-2.06.94zm10 10l.94 2.06.94-2.06 2.06-.94-2.06-.94-.94-2.06-.94 2.06-2.06.94z\"/><path d=\"M17.41 7.96l-1.37-1.37c-.4-.4-.92-.59-1.43-.59-.52 0-1.04.2-1.43.59L10.3 9.45l-7.72 7.72c-.78.78-.78 2.05 0 2.83L4 21.41c.39.39.9.59 1.41.59.51 0 1.02-.2 1.41-.59l7.78-7.78 2.81-2.81c.8-.78.8-2.07 0-2.86zM5.41 20L4 18.59l7.72-7.72 1.47 1.35L5.41 20z\"/>\n",
              "  </svg>\n",
              "      </button>\n",
              "      \n",
              "  <style>\n",
              "    .colab-df-container {\n",
              "      display:flex;\n",
              "      flex-wrap:wrap;\n",
              "      gap: 12px;\n",
              "    }\n",
              "\n",
              "    .colab-df-convert {\n",
              "      background-color: #E8F0FE;\n",
              "      border: none;\n",
              "      border-radius: 50%;\n",
              "      cursor: pointer;\n",
              "      display: none;\n",
              "      fill: #1967D2;\n",
              "      height: 32px;\n",
              "      padding: 0 0 0 0;\n",
              "      width: 32px;\n",
              "    }\n",
              "\n",
              "    .colab-df-convert:hover {\n",
              "      background-color: #E2EBFA;\n",
              "      box-shadow: 0px 1px 2px rgba(60, 64, 67, 0.3), 0px 1px 3px 1px rgba(60, 64, 67, 0.15);\n",
              "      fill: #174EA6;\n",
              "    }\n",
              "\n",
              "    [theme=dark] .colab-df-convert {\n",
              "      background-color: #3B4455;\n",
              "      fill: #D2E3FC;\n",
              "    }\n",
              "\n",
              "    [theme=dark] .colab-df-convert:hover {\n",
              "      background-color: #434B5C;\n",
              "      box-shadow: 0px 1px 3px 1px rgba(0, 0, 0, 0.15);\n",
              "      filter: drop-shadow(0px 1px 2px rgba(0, 0, 0, 0.3));\n",
              "      fill: #FFFFFF;\n",
              "    }\n",
              "  </style>\n",
              "\n",
              "      <script>\n",
              "        const buttonEl =\n",
              "          document.querySelector('#df-2cc15d1a-1c72-4056-ba97-37edd2236853 button.colab-df-convert');\n",
              "        buttonEl.style.display =\n",
              "          google.colab.kernel.accessAllowed ? 'block' : 'none';\n",
              "\n",
              "        async function convertToInteractive(key) {\n",
              "          const element = document.querySelector('#df-2cc15d1a-1c72-4056-ba97-37edd2236853');\n",
              "          const dataTable =\n",
              "            await google.colab.kernel.invokeFunction('convertToInteractive',\n",
              "                                                     [key], {});\n",
              "          if (!dataTable) return;\n",
              "\n",
              "          const docLinkHtml = 'Like what you see? Visit the ' +\n",
              "            '<a target=\"_blank\" href=https://colab.research.google.com/notebooks/data_table.ipynb>data table notebook</a>'\n",
              "            + ' to learn more about interactive tables.';\n",
              "          element.innerHTML = '';\n",
              "          dataTable['output_type'] = 'display_data';\n",
              "          await google.colab.output.renderOutput(dataTable, element);\n",
              "          const docLink = document.createElement('div');\n",
              "          docLink.innerHTML = docLinkHtml;\n",
              "          element.appendChild(docLink);\n",
              "        }\n",
              "      </script>\n",
              "    </div>\n",
              "  </div>\n",
              "  "
            ]
          },
          "metadata": {},
          "execution_count": 38
        }
      ]
    },
    {
      "cell_type": "code",
      "source": [
        "not_common_docs=list(np.concatenate(not_common_docs).flat)\n",
        "new_rel_2021=rel_2021[~rel_2021[\"doc\"].isin(not_common_docs)]\n",
        "new_rel_2021.to_csv(\"/content/drive/MyDrive/touche-2022-prototyping/touche_results_2021.csv\")\n",
        "# documents_2021.to_csv(\"/content/drive/MyDrive/touche-2022-prototyping/documents_2021.csv\")"
      ],
      "metadata": {
        "id": "41sKvkJbboEq"
      },
      "execution_count": 39,
      "outputs": []
    },
    {
      "cell_type": "code",
      "source": [
        "# verifying the irrelevant doc-id elimination operation.\n",
        "percentage=[]\n",
        "not_common_docs=[]\n",
        "for qid in topics_2021[\"Number\"]:\n",
        "    relevant=new_rel_2021.loc[new_rel_2021[\"qid\"]==qid][\"doc\"]\n",
        "    intersection=set(relevant) & set(documents_2021[\"old_id\"])\n",
        "    not_common=list(set(relevant) -set(documents_2021[\"old_id\"]))\n",
        "    percent=len(intersection)/len(relevant)\n",
        "    not_common_docs.append(not_common)\n",
        "    percentage.append({\"title_id\":qid,\"Percentage\":percent,\"Not_common\":not_common})\n",
        "print(percentage)\n",
        "# successfully the additionals documents are eliminated."
      ],
      "metadata": {
        "colab": {
          "base_uri": "https://localhost:8080/"
        },
        "id": "4hk6Hjm5boHe",
        "outputId": "21661466-950a-42f4-9808-f8772ad08903"
      },
      "execution_count": 40,
      "outputs": [
        {
          "output_type": "stream",
          "name": "stdout",
          "text": [
            "[{'title_id': '51', 'Percentage': 1.0, 'Not_common': []}, {'title_id': '52', 'Percentage': 1.0, 'Not_common': []}, {'title_id': '53', 'Percentage': 1.0, 'Not_common': []}, {'title_id': '54', 'Percentage': 1.0, 'Not_common': []}, {'title_id': '55', 'Percentage': 1.0, 'Not_common': []}, {'title_id': '56', 'Percentage': 1.0, 'Not_common': []}, {'title_id': '57', 'Percentage': 1.0, 'Not_common': []}, {'title_id': '58', 'Percentage': 1.0, 'Not_common': []}, {'title_id': '59', 'Percentage': 1.0, 'Not_common': []}, {'title_id': '60', 'Percentage': 1.0, 'Not_common': []}, {'title_id': '61', 'Percentage': 1.0, 'Not_common': []}, {'title_id': '62', 'Percentage': 1.0, 'Not_common': []}, {'title_id': '63', 'Percentage': 1.0, 'Not_common': []}, {'title_id': '64', 'Percentage': 1.0, 'Not_common': []}, {'title_id': '65', 'Percentage': 1.0, 'Not_common': []}, {'title_id': '66', 'Percentage': 1.0, 'Not_common': []}, {'title_id': '67', 'Percentage': 1.0, 'Not_common': []}, {'title_id': '68', 'Percentage': 1.0, 'Not_common': []}, {'title_id': '69', 'Percentage': 1.0, 'Not_common': []}, {'title_id': '70', 'Percentage': 1.0, 'Not_common': []}, {'title_id': '71', 'Percentage': 1.0, 'Not_common': []}, {'title_id': '72', 'Percentage': 1.0, 'Not_common': []}, {'title_id': '73', 'Percentage': 1.0, 'Not_common': []}, {'title_id': '74', 'Percentage': 1.0, 'Not_common': []}, {'title_id': '75', 'Percentage': 1.0, 'Not_common': []}, {'title_id': '76', 'Percentage': 1.0, 'Not_common': []}, {'title_id': '77', 'Percentage': 1.0, 'Not_common': []}, {'title_id': '78', 'Percentage': 1.0, 'Not_common': []}, {'title_id': '79', 'Percentage': 1.0, 'Not_common': []}, {'title_id': '80', 'Percentage': 1.0, 'Not_common': []}, {'title_id': '81', 'Percentage': 1.0, 'Not_common': []}, {'title_id': '82', 'Percentage': 1.0, 'Not_common': []}, {'title_id': '83', 'Percentage': 1.0, 'Not_common': []}, {'title_id': '84', 'Percentage': 1.0, 'Not_common': []}, {'title_id': '85', 'Percentage': 1.0, 'Not_common': []}, {'title_id': '86', 'Percentage': 1.0, 'Not_common': []}, {'title_id': '87', 'Percentage': 1.0, 'Not_common': []}, {'title_id': '88', 'Percentage': 1.0, 'Not_common': []}, {'title_id': '89', 'Percentage': 1.0, 'Not_common': []}, {'title_id': '90', 'Percentage': 1.0, 'Not_common': []}, {'title_id': '91', 'Percentage': 1.0, 'Not_common': []}, {'title_id': '92', 'Percentage': 1.0, 'Not_common': []}, {'title_id': '93', 'Percentage': 1.0, 'Not_common': []}, {'title_id': '94', 'Percentage': 1.0, 'Not_common': []}, {'title_id': '95', 'Percentage': 1.0, 'Not_common': []}, {'title_id': '96', 'Percentage': 1.0, 'Not_common': []}, {'title_id': '97', 'Percentage': 1.0, 'Not_common': []}, {'title_id': '98', 'Percentage': 1.0, 'Not_common': []}, {'title_id': '99', 'Percentage': 1.0, 'Not_common': []}, {'title_id': '100', 'Percentage': 1.0, 'Not_common': []}]\n"
          ]
        }
      ]
    },
    {
      "cell_type": "code",
      "source": [
        "new_rel_2021.head()"
      ],
      "metadata": {
        "colab": {
          "base_uri": "https://localhost:8080/",
          "height": 206
        },
        "id": "_fmr-noUQJAq",
        "outputId": "065d6252-9a2f-4b75-a982-b848a6b56db0"
      },
      "execution_count": 41,
      "outputs": [
        {
          "output_type": "execute_result",
          "data": {
            "text/plain": [
              "  qid no                        doc rel\n",
              "0  54  0  clueweb12-0205wb-64-11095   0\n",
              "1  54  0  clueweb12-0501wb-64-06459   1\n",
              "2  54  0  clueweb12-0207wb-30-15337   0\n",
              "3  54  0  clueweb12-0906wb-38-27123   0\n",
              "4  54  0  clueweb12-0907wb-55-11510   0"
            ],
            "text/html": [
              "\n",
              "  <div id=\"df-1d6ec8d7-c4e4-4e24-bd82-d983148950c1\">\n",
              "    <div class=\"colab-df-container\">\n",
              "      <div>\n",
              "<style scoped>\n",
              "    .dataframe tbody tr th:only-of-type {\n",
              "        vertical-align: middle;\n",
              "    }\n",
              "\n",
              "    .dataframe tbody tr th {\n",
              "        vertical-align: top;\n",
              "    }\n",
              "\n",
              "    .dataframe thead th {\n",
              "        text-align: right;\n",
              "    }\n",
              "</style>\n",
              "<table border=\"1\" class=\"dataframe\">\n",
              "  <thead>\n",
              "    <tr style=\"text-align: right;\">\n",
              "      <th></th>\n",
              "      <th>qid</th>\n",
              "      <th>no</th>\n",
              "      <th>doc</th>\n",
              "      <th>rel</th>\n",
              "    </tr>\n",
              "  </thead>\n",
              "  <tbody>\n",
              "    <tr>\n",
              "      <th>0</th>\n",
              "      <td>54</td>\n",
              "      <td>0</td>\n",
              "      <td>clueweb12-0205wb-64-11095</td>\n",
              "      <td>0</td>\n",
              "    </tr>\n",
              "    <tr>\n",
              "      <th>1</th>\n",
              "      <td>54</td>\n",
              "      <td>0</td>\n",
              "      <td>clueweb12-0501wb-64-06459</td>\n",
              "      <td>1</td>\n",
              "    </tr>\n",
              "    <tr>\n",
              "      <th>2</th>\n",
              "      <td>54</td>\n",
              "      <td>0</td>\n",
              "      <td>clueweb12-0207wb-30-15337</td>\n",
              "      <td>0</td>\n",
              "    </tr>\n",
              "    <tr>\n",
              "      <th>3</th>\n",
              "      <td>54</td>\n",
              "      <td>0</td>\n",
              "      <td>clueweb12-0906wb-38-27123</td>\n",
              "      <td>0</td>\n",
              "    </tr>\n",
              "    <tr>\n",
              "      <th>4</th>\n",
              "      <td>54</td>\n",
              "      <td>0</td>\n",
              "      <td>clueweb12-0907wb-55-11510</td>\n",
              "      <td>0</td>\n",
              "    </tr>\n",
              "  </tbody>\n",
              "</table>\n",
              "</div>\n",
              "      <button class=\"colab-df-convert\" onclick=\"convertToInteractive('df-1d6ec8d7-c4e4-4e24-bd82-d983148950c1')\"\n",
              "              title=\"Convert this dataframe to an interactive table.\"\n",
              "              style=\"display:none;\">\n",
              "        \n",
              "  <svg xmlns=\"http://www.w3.org/2000/svg\" height=\"24px\"viewBox=\"0 0 24 24\"\n",
              "       width=\"24px\">\n",
              "    <path d=\"M0 0h24v24H0V0z\" fill=\"none\"/>\n",
              "    <path d=\"M18.56 5.44l.94 2.06.94-2.06 2.06-.94-2.06-.94-.94-2.06-.94 2.06-2.06.94zm-11 1L8.5 8.5l.94-2.06 2.06-.94-2.06-.94L8.5 2.5l-.94 2.06-2.06.94zm10 10l.94 2.06.94-2.06 2.06-.94-2.06-.94-.94-2.06-.94 2.06-2.06.94z\"/><path d=\"M17.41 7.96l-1.37-1.37c-.4-.4-.92-.59-1.43-.59-.52 0-1.04.2-1.43.59L10.3 9.45l-7.72 7.72c-.78.78-.78 2.05 0 2.83L4 21.41c.39.39.9.59 1.41.59.51 0 1.02-.2 1.41-.59l7.78-7.78 2.81-2.81c.8-.78.8-2.07 0-2.86zM5.41 20L4 18.59l7.72-7.72 1.47 1.35L5.41 20z\"/>\n",
              "  </svg>\n",
              "      </button>\n",
              "      \n",
              "  <style>\n",
              "    .colab-df-container {\n",
              "      display:flex;\n",
              "      flex-wrap:wrap;\n",
              "      gap: 12px;\n",
              "    }\n",
              "\n",
              "    .colab-df-convert {\n",
              "      background-color: #E8F0FE;\n",
              "      border: none;\n",
              "      border-radius: 50%;\n",
              "      cursor: pointer;\n",
              "      display: none;\n",
              "      fill: #1967D2;\n",
              "      height: 32px;\n",
              "      padding: 0 0 0 0;\n",
              "      width: 32px;\n",
              "    }\n",
              "\n",
              "    .colab-df-convert:hover {\n",
              "      background-color: #E2EBFA;\n",
              "      box-shadow: 0px 1px 2px rgba(60, 64, 67, 0.3), 0px 1px 3px 1px rgba(60, 64, 67, 0.15);\n",
              "      fill: #174EA6;\n",
              "    }\n",
              "\n",
              "    [theme=dark] .colab-df-convert {\n",
              "      background-color: #3B4455;\n",
              "      fill: #D2E3FC;\n",
              "    }\n",
              "\n",
              "    [theme=dark] .colab-df-convert:hover {\n",
              "      background-color: #434B5C;\n",
              "      box-shadow: 0px 1px 3px 1px rgba(0, 0, 0, 0.15);\n",
              "      filter: drop-shadow(0px 1px 2px rgba(0, 0, 0, 0.3));\n",
              "      fill: #FFFFFF;\n",
              "    }\n",
              "  </style>\n",
              "\n",
              "      <script>\n",
              "        const buttonEl =\n",
              "          document.querySelector('#df-1d6ec8d7-c4e4-4e24-bd82-d983148950c1 button.colab-df-convert');\n",
              "        buttonEl.style.display =\n",
              "          google.colab.kernel.accessAllowed ? 'block' : 'none';\n",
              "\n",
              "        async function convertToInteractive(key) {\n",
              "          const element = document.querySelector('#df-1d6ec8d7-c4e4-4e24-bd82-d983148950c1');\n",
              "          const dataTable =\n",
              "            await google.colab.kernel.invokeFunction('convertToInteractive',\n",
              "                                                     [key], {});\n",
              "          if (!dataTable) return;\n",
              "\n",
              "          const docLinkHtml = 'Like what you see? Visit the ' +\n",
              "            '<a target=\"_blank\" href=https://colab.research.google.com/notebooks/data_table.ipynb>data table notebook</a>'\n",
              "            + ' to learn more about interactive tables.';\n",
              "          element.innerHTML = '';\n",
              "          dataTable['output_type'] = 'display_data';\n",
              "          await google.colab.output.renderOutput(dataTable, element);\n",
              "          const docLink = document.createElement('div');\n",
              "          docLink.innerHTML = docLinkHtml;\n",
              "          element.appendChild(docLink);\n",
              "        }\n",
              "      </script>\n",
              "    </div>\n",
              "  </div>\n",
              "  "
            ]
          },
          "metadata": {},
          "execution_count": 41
        }
      ]
    },
    {
      "cell_type": "code",
      "source": [
        "from collections import defaultdict\n",
        "ground_truth_dict = defaultdict(list)\n",
        "for i_, d_, x_ in zip(new_rel_2021['qid'], new_rel_2021['doc'], new_rel_2021['rel']):\n",
        "    if int(x_) > 0:\n",
        "        i_ = str(i_)\n",
        "        d_ = str(d_)\n",
        "        ground_truth_dict[i_].append(d_)"
      ],
      "metadata": {
        "id": "EpNKp7ZGN4VP"
      },
      "execution_count": 98,
      "outputs": []
    },
    {
      "cell_type": "code",
      "source": [
        "# the final dictionaries for basic metric evaluation and analysis.\n",
        "# Average percentage common, Hit-once and Hit-all metric basic definition.\n",
        "hit_one = 0\n",
        "hit_all = 0\n",
        "total = 50\n",
        "per_comm_avg = 0\n",
        "for id_i, doc_i in ground_truth_dict.items():\n",
        "    doc_i = set(doc_i)\n",
        "    for id_j , doc_j in solution_dict.items():\n",
        "        doc_j = set(doc_j)\n",
        "        if id_i == id_j:\n",
        "            if doc_j.intersection(doc_i):\n",
        "                hit_one += 1\n",
        "            if doc_j.issuperset(doc_i):\n",
        "                hit_all += 1\n",
        "            per_comm_avg += len(doc_j.intersection(doc_i))/len(doc_i)\n",
        "            break\n",
        "\n",
        "print(f'Hit one: {round(hit_one / total, 4)}')\n",
        "print(f'Hit all: {round(hit_all / total, 4)}')\n",
        "print(f'Average common ratio: {round(per_comm_avg / total, 4)}')"
      ],
      "metadata": {
        "colab": {
          "base_uri": "https://localhost:8080/"
        },
        "id": "qEUsTF1dN4cQ",
        "outputId": "9b963da6-7bc5-46ae-8bb1-abc97f9f2fb5"
      },
      "execution_count": 123,
      "outputs": [
        {
          "output_type": "stream",
          "name": "stdout",
          "text": [
            "Hit one: 1.0\n",
            "Hit all: 0.52\n",
            "Average common ratio: 0.9183\n"
          ]
        }
      ]
    },
    {
      "cell_type": "code",
      "source": [
        "# the final dictionaries for basic metric evaluation and analysis.\n",
        "# Average percentage common, Hit-once and Hit-all metric basic definition.\n",
        "hit_one = 0\n",
        "hit_all = 0\n",
        "total = 50\n",
        "per_comm_avg = 0\n",
        "for id_i, doc_i in ground_truth_dict.items():\n",
        "    doc_i = set(doc_i)\n",
        "    for id_j , doc_j in solution_dict_opt.items():\n",
        "        doc_j = set(doc_j)\n",
        "        if id_i == id_j:\n",
        "            if doc_j.intersection(doc_i):\n",
        "                hit_one += 1\n",
        "            if doc_j.issuperset(doc_i):\n",
        "                hit_all += 1\n",
        "            per_comm_avg += len(doc_j.intersection(doc_i))/len(doc_i)\n",
        "            break\n",
        "\n",
        "print(f'Hit one: {round(hit_one / total, 4)}')\n",
        "print(f'Hit all: {round(hit_all / total, 4)}')\n",
        "print(f'Average common ratio: {round(per_comm_avg / total, 4)}')"
      ],
      "metadata": {
        "colab": {
          "base_uri": "https://localhost:8080/"
        },
        "id": "zzAUg_V2N4eh",
        "outputId": "e31d1ea9-60f6-4e38-e883-2ac5e085843a"
      },
      "execution_count": 124,
      "outputs": [
        {
          "output_type": "stream",
          "name": "stdout",
          "text": [
            "Hit one: 1.0\n",
            "Hit all: 0.5\n",
            "Average common ratio: 0.9196\n"
          ]
        }
      ]
    },
    {
      "cell_type": "code",
      "source": [
        "# Result summarization and A case for query expansion.\n",
        "# Measuring on an average what's the document retrieval coverage.\n",
        "# 1. k = 500, opt\n",
        "# Hit one: 1.0\n",
        "# Hit all: 0.5\n",
        "# Average common ratio: 0.9196\n",
        "\n",
        "# 2. k = 786, opt\n",
        "#    Hit one: 1.0\n",
        "#    Hit all: 0.64\n",
        "#    Average common ratio: 0.944\n",
        "\n",
        "# 3. k = 1000, opt \n",
        "#    Hit one: 1.0\n",
        "#    Hit all: 0.7\n",
        "#    Average common ratio: 0.9563\n",
        "\n",
        "# 4. k = 1200 \n",
        "#    Hit one: 1.0\n",
        "#    Hit all: 0.74\n",
        "#    Average common ratio: 0.9726\n",
        "\n",
        "# 5. k = 1375\n",
        "#    Hit one: 1.0\n",
        "#    Hit all: 0.78\n",
        "#    Average common ratio: 0.9745\n",
        "\n",
        "# 6. k = 1500, opt\n",
        "#    Hit one: 1.0\n",
        "#    Hit all: 0.78\n",
        "#    Average common ratio: 0.9752"
      ],
      "metadata": {
        "id": "eJ6nFsgQN45f"
      },
      "execution_count": null,
      "outputs": []
    },
    {
      "cell_type": "code",
      "source": [
        ""
      ],
      "metadata": {
        "id": "1NmrpVLEN47V"
      },
      "execution_count": null,
      "outputs": []
    }
  ]
}