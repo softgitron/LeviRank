{
  "nbformat": 4,
  "nbformat_minor": 0,
  "metadata": {
    "colab": {
      "name": "Final_prediction_and_file_generation.ipynb",
      "provenance": [],
      "collapsed_sections": []
    },
    "kernelspec": {
      "name": "python3",
      "display_name": "Python 3"
    },
    "language_info": {
      "name": "python"
    },
    "accelerator": "GPU"
  },
  "cells": [
    {
      "cell_type": "code",
      "source": [
        "from google.colab import drive\n",
        "drive.mount('/content/drive')"
      ],
      "metadata": {
        "colab": {
          "base_uri": "https://localhost:8080/"
        },
        "id": "hp_BVl5itleO",
        "outputId": "a0c3361b-b520-439e-a315-c3ebe2b0a262"
      },
      "execution_count": 1,
      "outputs": [
        {
          "output_type": "stream",
          "name": "stdout",
          "text": [
            "Mounted at /content/drive\n"
          ]
        }
      ]
    },
    {
      "cell_type": "code",
      "source": [
        "# main library required is transformer with pytorch backend\n",
        "# no tensorflow\n",
        "\n",
        "!pip install transformers"
      ],
      "metadata": {
        "id": "BcTtIKSmY_wO"
      },
      "execution_count": null,
      "outputs": []
    },
    {
      "cell_type": "code",
      "source": [
        "# import statements for stance tasks.\n",
        "import torch\n",
        "from transformers import AutoConfig, AutoTokenizer, AutoModelForSequenceClassification\n",
        "from tqdm import tqdm\n",
        "import pandas as pd"
      ],
      "metadata": {
        "id": "bTHUnhsmYKXg"
      },
      "execution_count": 3,
      "outputs": []
    },
    {
      "cell_type": "code",
      "execution_count": 10,
      "metadata": {
        "id": "0s4g0ukKT7PS"
      },
      "outputs": [],
      "source": [
        "# loading the final reranked file which should query and document\n",
        "stance_df = pd.read_csv(\"/content/drive/MyDrive/Touche/Final_Reranked_Duo.csv\")"
      ]
    },
    {
      "cell_type": "code",
      "source": [
        "stance_df.head()"
      ],
      "metadata": {
        "colab": {
          "base_uri": "https://localhost:8080/",
          "height": 337
        },
        "id": "O-1NZrn2uP3t",
        "outputId": "8bace166-c148-4c01-8cd1-10796f5d6f3b"
      },
      "execution_count": 11,
      "outputs": [
        {
          "output_type": "execute_result",
          "data": {
            "text/plain": [
              "   title_id                                    title  \\\n",
              "0         2  Which is better, a laptop or a desktop?   \n",
              "1         2  Which is better, a laptop or a desktop?   \n",
              "2         2  Which is better, a laptop or a desktop?   \n",
              "3         2  Which is better, a laptop or a desktop?   \n",
              "4         2  Which is better, a laptop or a desktop?   \n",
              "\n",
              "                                          New_title  \\\n",
              "0  Which is better, a laptop or a desktop? computer   \n",
              "1  Which is better, a laptop or a desktop? computer   \n",
              "2  Which is better, a laptop or a desktop? computer   \n",
              "3  Which is better, a laptop or a desktop? computer   \n",
              "4  Which is better, a laptop or a desktop? computer   \n",
              "\n",
              "                          doc_id      score  \\\n",
              "0  clueweb12-1804wb-90-15876___2  79.028076   \n",
              "1  clueweb12-0301wb-84-10147___2  85.443459   \n",
              "2  clueweb12-0608wb-66-03868___2  76.021535   \n",
              "3  clueweb12-0013wb-19-15392___6  74.094092   \n",
              "4  clueweb12-0907wb-60-03588___2  77.725021   \n",
              "\n",
              "                                             content  \n",
              "0  Therefore hard drives in a laptop usually have...  \n",
              "1  Many times consumers may opt to have both but ...  \n",
              "2  Laptop computers are portable have the virtual...  \n",
              "3  Keep in mind a laptop is one unit If you break...  \n",
              "4  There has been a turnaround in pricing trends ...  "
            ],
            "text/html": [
              "\n",
              "  <div id=\"df-5e54d020-d0e6-4a43-bfca-d35d1f66fe98\">\n",
              "    <div class=\"colab-df-container\">\n",
              "      <div>\n",
              "<style scoped>\n",
              "    .dataframe tbody tr th:only-of-type {\n",
              "        vertical-align: middle;\n",
              "    }\n",
              "\n",
              "    .dataframe tbody tr th {\n",
              "        vertical-align: top;\n",
              "    }\n",
              "\n",
              "    .dataframe thead th {\n",
              "        text-align: right;\n",
              "    }\n",
              "</style>\n",
              "<table border=\"1\" class=\"dataframe\">\n",
              "  <thead>\n",
              "    <tr style=\"text-align: right;\">\n",
              "      <th></th>\n",
              "      <th>title_id</th>\n",
              "      <th>title</th>\n",
              "      <th>New_title</th>\n",
              "      <th>doc_id</th>\n",
              "      <th>score</th>\n",
              "      <th>content</th>\n",
              "    </tr>\n",
              "  </thead>\n",
              "  <tbody>\n",
              "    <tr>\n",
              "      <th>0</th>\n",
              "      <td>2</td>\n",
              "      <td>Which is better, a laptop or a desktop?</td>\n",
              "      <td>Which is better, a laptop or a desktop? computer</td>\n",
              "      <td>clueweb12-1804wb-90-15876___2</td>\n",
              "      <td>79.028076</td>\n",
              "      <td>Therefore hard drives in a laptop usually have...</td>\n",
              "    </tr>\n",
              "    <tr>\n",
              "      <th>1</th>\n",
              "      <td>2</td>\n",
              "      <td>Which is better, a laptop or a desktop?</td>\n",
              "      <td>Which is better, a laptop or a desktop? computer</td>\n",
              "      <td>clueweb12-0301wb-84-10147___2</td>\n",
              "      <td>85.443459</td>\n",
              "      <td>Many times consumers may opt to have both but ...</td>\n",
              "    </tr>\n",
              "    <tr>\n",
              "      <th>2</th>\n",
              "      <td>2</td>\n",
              "      <td>Which is better, a laptop or a desktop?</td>\n",
              "      <td>Which is better, a laptop or a desktop? computer</td>\n",
              "      <td>clueweb12-0608wb-66-03868___2</td>\n",
              "      <td>76.021535</td>\n",
              "      <td>Laptop computers are portable have the virtual...</td>\n",
              "    </tr>\n",
              "    <tr>\n",
              "      <th>3</th>\n",
              "      <td>2</td>\n",
              "      <td>Which is better, a laptop or a desktop?</td>\n",
              "      <td>Which is better, a laptop or a desktop? computer</td>\n",
              "      <td>clueweb12-0013wb-19-15392___6</td>\n",
              "      <td>74.094092</td>\n",
              "      <td>Keep in mind a laptop is one unit If you break...</td>\n",
              "    </tr>\n",
              "    <tr>\n",
              "      <th>4</th>\n",
              "      <td>2</td>\n",
              "      <td>Which is better, a laptop or a desktop?</td>\n",
              "      <td>Which is better, a laptop or a desktop? computer</td>\n",
              "      <td>clueweb12-0907wb-60-03588___2</td>\n",
              "      <td>77.725021</td>\n",
              "      <td>There has been a turnaround in pricing trends ...</td>\n",
              "    </tr>\n",
              "  </tbody>\n",
              "</table>\n",
              "</div>\n",
              "      <button class=\"colab-df-convert\" onclick=\"convertToInteractive('df-5e54d020-d0e6-4a43-bfca-d35d1f66fe98')\"\n",
              "              title=\"Convert this dataframe to an interactive table.\"\n",
              "              style=\"display:none;\">\n",
              "        \n",
              "  <svg xmlns=\"http://www.w3.org/2000/svg\" height=\"24px\"viewBox=\"0 0 24 24\"\n",
              "       width=\"24px\">\n",
              "    <path d=\"M0 0h24v24H0V0z\" fill=\"none\"/>\n",
              "    <path d=\"M18.56 5.44l.94 2.06.94-2.06 2.06-.94-2.06-.94-.94-2.06-.94 2.06-2.06.94zm-11 1L8.5 8.5l.94-2.06 2.06-.94-2.06-.94L8.5 2.5l-.94 2.06-2.06.94zm10 10l.94 2.06.94-2.06 2.06-.94-2.06-.94-.94-2.06-.94 2.06-2.06.94z\"/><path d=\"M17.41 7.96l-1.37-1.37c-.4-.4-.92-.59-1.43-.59-.52 0-1.04.2-1.43.59L10.3 9.45l-7.72 7.72c-.78.78-.78 2.05 0 2.83L4 21.41c.39.39.9.59 1.41.59.51 0 1.02-.2 1.41-.59l7.78-7.78 2.81-2.81c.8-.78.8-2.07 0-2.86zM5.41 20L4 18.59l7.72-7.72 1.47 1.35L5.41 20z\"/>\n",
              "  </svg>\n",
              "      </button>\n",
              "      \n",
              "  <style>\n",
              "    .colab-df-container {\n",
              "      display:flex;\n",
              "      flex-wrap:wrap;\n",
              "      gap: 12px;\n",
              "    }\n",
              "\n",
              "    .colab-df-convert {\n",
              "      background-color: #E8F0FE;\n",
              "      border: none;\n",
              "      border-radius: 50%;\n",
              "      cursor: pointer;\n",
              "      display: none;\n",
              "      fill: #1967D2;\n",
              "      height: 32px;\n",
              "      padding: 0 0 0 0;\n",
              "      width: 32px;\n",
              "    }\n",
              "\n",
              "    .colab-df-convert:hover {\n",
              "      background-color: #E2EBFA;\n",
              "      box-shadow: 0px 1px 2px rgba(60, 64, 67, 0.3), 0px 1px 3px 1px rgba(60, 64, 67, 0.15);\n",
              "      fill: #174EA6;\n",
              "    }\n",
              "\n",
              "    [theme=dark] .colab-df-convert {\n",
              "      background-color: #3B4455;\n",
              "      fill: #D2E3FC;\n",
              "    }\n",
              "\n",
              "    [theme=dark] .colab-df-convert:hover {\n",
              "      background-color: #434B5C;\n",
              "      box-shadow: 0px 1px 3px 1px rgba(0, 0, 0, 0.15);\n",
              "      filter: drop-shadow(0px 1px 2px rgba(0, 0, 0, 0.3));\n",
              "      fill: #FFFFFF;\n",
              "    }\n",
              "  </style>\n",
              "\n",
              "      <script>\n",
              "        const buttonEl =\n",
              "          document.querySelector('#df-5e54d020-d0e6-4a43-bfca-d35d1f66fe98 button.colab-df-convert');\n",
              "        buttonEl.style.display =\n",
              "          google.colab.kernel.accessAllowed ? 'block' : 'none';\n",
              "\n",
              "        async function convertToInteractive(key) {\n",
              "          const element = document.querySelector('#df-5e54d020-d0e6-4a43-bfca-d35d1f66fe98');\n",
              "          const dataTable =\n",
              "            await google.colab.kernel.invokeFunction('convertToInteractive',\n",
              "                                                     [key], {});\n",
              "          if (!dataTable) return;\n",
              "\n",
              "          const docLinkHtml = 'Like what you see? Visit the ' +\n",
              "            '<a target=\"_blank\" href=https://colab.research.google.com/notebooks/data_table.ipynb>data table notebook</a>'\n",
              "            + ' to learn more about interactive tables.';\n",
              "          element.innerHTML = '';\n",
              "          dataTable['output_type'] = 'display_data';\n",
              "          await google.colab.output.renderOutput(dataTable, element);\n",
              "          const docLink = document.createElement('div');\n",
              "          docLink.innerHTML = docLinkHtml;\n",
              "          element.appendChild(docLink);\n",
              "        }\n",
              "      </script>\n",
              "    </div>\n",
              "  </div>\n",
              "  "
            ]
          },
          "metadata": {},
          "execution_count": 11
        }
      ]
    },
    {
      "cell_type": "code",
      "source": [
        "# make sure, that we have cpu only for TIRA submissions.\n",
        "device = torch.device('cuda' if torch.cuda.is_available() else 'cpu')\n",
        "print(f'Using device \"{device}\"')"
      ],
      "metadata": {
        "colab": {
          "base_uri": "https://localhost:8080/"
        },
        "id": "NImoN65IZsQ6",
        "outputId": "6e22f9a4-470e-4ea9-a652-a4cbe7dd5f3d"
      },
      "execution_count": 4,
      "outputs": [
        {
          "output_type": "stream",
          "name": "stdout",
          "text": [
            "Using device \"cuda\"\n"
          ]
        }
      ]
    },
    {
      "cell_type": "code",
      "source": [
        "# model output 1: for object/neutral_no separator model.\n",
        "# it separates first and second model from the neutral/no stance\n",
        "def object_separator(evidence, claim, tokenizer, model):\n",
        "    model.eval()\n",
        "    def encode(claim, rationale):\n",
        "        encoding = tokenizer(claim, rationale, padding=True, truncation=True, max_length=512, return_tensors=\"pt\")\n",
        "        input_ids = encoding['input_ids']\n",
        "        attention_mask = encoding['attention_mask']\n",
        "        return input_ids, attention_mask\n",
        "\n",
        "    def predict(model, evidence, claim):\n",
        "        with torch.no_grad():\n",
        "            input_ids, attention_mask = encode(claim, evidence)\n",
        "            logits = model(input_ids.to(device)).logits\n",
        "            output = logits.argmax(dim=1).tolist()[0]\n",
        "        return output\n",
        "\n",
        "\n",
        "    return predict(model, evidence, claim)"
      ],
      "metadata": {
        "id": "yV9vqrloYKa-"
      },
      "execution_count": 5,
      "outputs": []
    },
    {
      "cell_type": "code",
      "source": [
        "# model output 1: for object/neutral_no detector model.\n",
        "# it predicts first and second models as outputs.\n",
        "def object_detector(evidence, claim, tokenizer, model):\n",
        "    model.eval()\n",
        "    def encode(claim, rationale):\n",
        "        encoding = tokenizer(claim, rationale, padding=True, truncation=True, max_length=512, return_tensors=\"pt\")\n",
        "        input_ids = encoding['input_ids']\n",
        "        attention_mask = encoding['attention_mask']\n",
        "        return input_ids, attention_mask\n",
        "\n",
        "    def predict(model, evidence, claim):\n",
        "        with torch.no_grad():\n",
        "            input_ids, attention_mask = encode(claim, evidence)\n",
        "            logits = model(input_ids.to(device)).logits\n",
        "            output = logits.argmax(dim=1).tolist()[0]\n",
        "        return output\n",
        "\n",
        "    return predict(model, evidence, claim)"
      ],
      "metadata": {
        "id": "o_U1QAyGYKdL"
      },
      "execution_count": 6,
      "outputs": []
    },
    {
      "cell_type": "code",
      "source": [
        "# this function has the logic for converting prediction numbers to labels.\n",
        "# please, take time and try to understand it.\n",
        "# also, feel free to call if required for understanding.\n",
        "count_wrong=0\n",
        "def detect(evidence, claim, tokenizer_n, model_n, tokenizer_e, model_e):\n",
        "  global count_wrong\n",
        "  # first step\n",
        "  # predicting neutral or not\n",
        "  first = object_separator(evidence, claim, tokenizer_n, model_n)\n",
        "  final=1\n",
        "  if first == 1:\n",
        "      final = 1\n",
        "  elif first == 0:\n",
        "      final = 0\n",
        "  else:\n",
        "      #predicting support or not\n",
        "      second = object_detector(evidence, claim, tokenizer_e, model_e)\n",
        "      if second == 0:\n",
        "          final = 2\n",
        "      elif second == 1:\n",
        "          final = 3\n",
        "      else:\n",
        "        count_wrong = count_wrong+1\n",
        "  return final"
      ],
      "metadata": {
        "id": "ZoqCSFQ4YKfZ"
      },
      "execution_count": 22,
      "outputs": []
    },
    {
      "cell_type": "code",
      "source": [
        "# loading andreea's models into the 'n' and 's' two-step models.\n",
        "model_n_path = \"/content/drive/MyDrive/Touche/first_model_classifier-epoch-17-f1-5888\"\n",
        "tokenizer_n = AutoTokenizer.from_pretrained(model_n_path)\n",
        "config_n = AutoConfig.from_pretrained(model_n_path, num_labels=3)\n",
        "model_n = AutoModelForSequenceClassification.from_pretrained(model_n_path, config=config_n).to(device)\n",
        "\n",
        "model_s_path = \"/content/drive/MyDrive/Touche/OBJECT1_OBJECT2-CLASSIFIER\"\n",
        "\n",
        "tokenizer_s = AutoTokenizer.from_pretrained(model_s_path)\n",
        "config_s = AutoConfig.from_pretrained(model_s_path, num_labels=3)\n",
        "model_s = AutoModelForSequenceClassification.from_pretrained(model_s_path, config=config_s).to(device)"
      ],
      "metadata": {
        "id": "beLn5VN_YKhg"
      },
      "execution_count": 9,
      "outputs": []
    },
    {
      "cell_type": "code",
      "source": [
        "# for conversion in below code\n",
        "LABELS = ['NO', 'NEUTRAL', 'FIRST', 'SECOND']"
      ],
      "metadata": {
        "id": "v6NPoQI-YKj0"
      },
      "execution_count": 12,
      "outputs": []
    },
    {
      "cell_type": "code",
      "source": [
        "import csv\n",
        "method = ['levirank_baseline', 'levirank_dense_initial_retrieval', 'levirank_dense_vote_initial_retrieval','levirank_psuedo_relevance_feedback']\n"
      ],
      "metadata": {
        "id": "6fv-2q0Vywho"
      },
      "execution_count": 13,
      "outputs": []
    },
    {
      "cell_type": "code",
      "source": [
        "stance_df.columns"
      ],
      "metadata": {
        "colab": {
          "base_uri": "https://localhost:8080/"
        },
        "id": "Q9w9MUpte_GO",
        "outputId": "fe3dbe93-e2b3-44e9-eadb-a7221bbdc359"
      },
      "execution_count": 14,
      "outputs": [
        {
          "output_type": "execute_result",
          "data": {
            "text/plain": [
              "Index(['title_id', 'title', 'New_title', 'doc_id', 'score', 'content'], dtype='object')"
            ]
          },
          "metadata": {},
          "execution_count": 14
        }
      ]
    },
    {
      "cell_type": "code",
      "source": [
        "# stance prediction and output writing code.\n",
        "data = []\n",
        "for title in tqdm(stance_df[\"title\"].unique()):\n",
        "  passages=stance_df.loc[stance_df[\"title\"]==title].sort_values(by=\"score\",ascending=False).iloc[0:1000,:]\n",
        "  rank=1\n",
        "  for qid_,did_, q_, d_, s_ in list(zip(passages['title_id'], passages['doc_id'],passages['title'], passages['content'],passages['score'])):\n",
        "      label_index = detect(d_, q_, tokenizer_n, model_n, tokenizer_s, model_s)\n",
        "      label = LABELS[label_index]\n",
        "      # print('query :'+ q_)\n",
        "      # print('document :'+ d_)\n",
        "      # print(label)\n",
        "      # print('\\n')\n",
        "      row = [qid_, label, did_, rank, s_, method[3]] #change here the method used for the model\n",
        "      data.append(row)\n",
        "      rank=rank+1\n"
      ],
      "metadata": {
        "id": "WCphLU6cYKpb",
        "colab": {
          "base_uri": "https://localhost:8080/"
        },
        "outputId": "160413c2-489a-4666-8082-2230703b25ff"
      },
      "execution_count": 23,
      "outputs": [
        {
          "output_type": "stream",
          "name": "stderr",
          "text": [
            "100%|██████████| 50/50 [1:15:56<00:00, 91.12s/it]\n"
          ]
        }
      ]
    },
    {
      "cell_type": "code",
      "source": [
        "data"
      ],
      "metadata": {
        "id": "zhHyjmVWhBsT"
      },
      "execution_count": null,
      "outputs": []
    },
    {
      "cell_type": "code",
      "source": [
        "with open('/content/drive/MyDrive/Touche/captain_levi_psuedo_relevance_run_2022.csv', 'w', encoding='UTF8', newline='') as f:\n",
        "    writer = csv.writer(f)\n",
        "\n",
        "    # write multiple rows\n",
        "    writer.writerows(data)"
      ],
      "metadata": {
        "id": "ATt0xr3Pg3ki"
      },
      "execution_count": 24,
      "outputs": []
    },
    {
      "cell_type": "code",
      "source": [
        "csv_file = r'/content/drive/MyDrive/Touche/captain_levi_psuedo_relevance_run_2022.csv'\n",
        "txt_file = r'/content/drive/MyDrive/Touche/captain_levi_psuedo_relevance_run_2022.txt'\n",
        "with open(txt_file, \"w\") as my_output_file:\n",
        "    with open(csv_file, \"r\") as my_input_file:\n",
        "        [ my_output_file.write(\" \".join(row)+'\\n') for row in csv.reader(my_input_file)]\n",
        "    my_output_file.close()"
      ],
      "metadata": {
        "id": "jQlan9ZPW9uw"
      },
      "execution_count": 25,
      "outputs": []
    },
    {
      "cell_type": "code",
      "source": [
        ""
      ],
      "metadata": {
        "id": "ttDhccTJmxxu"
      },
      "execution_count": null,
      "outputs": []
    }
  ]
}