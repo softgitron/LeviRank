{
  "nbformat": 4,
  "nbformat_minor": 0,
  "metadata": {
    "colab": {
      "name": "Final_prediction_and_file_generation.ipynb",
      "provenance": [],
      "collapsed_sections": []
    },
    "kernelspec": {
      "name": "python3",
      "display_name": "Python 3"
    },
    "language_info": {
      "name": "python"
    },
    "accelerator": "GPU"
  },
  "cells": [
    {
      "cell_type": "code",
      "source": [
        "from google.colab import drive\n",
        "drive.mount('/content/drive')"
      ],
      "metadata": {
        "colab": {
          "base_uri": "https://localhost:8080/"
        },
        "id": "hp_BVl5itleO",
        "outputId": "b4f439a2-a329-483b-8907-947cadda3c62"
      },
      "execution_count": 2,
      "outputs": [
        {
          "output_type": "stream",
          "name": "stdout",
          "text": [
            "Mounted at /content/drive\n"
          ]
        }
      ]
    },
    {
      "cell_type": "code",
      "source": [
        "# main library required is transformer with pytorch backend\n",
        "# no tensorflow\n",
        "\n",
        "!pip install transformers"
      ],
      "metadata": {
        "id": "BcTtIKSmY_wO"
      },
      "execution_count": null,
      "outputs": []
    },
    {
      "cell_type": "code",
      "source": [
        "# import statements for stance tasks.\n",
        "import torch\n",
        "from transformers import AutoConfig, AutoTokenizer, AutoModelForSequenceClassification\n",
        "from tqdm import tqdm\n",
        "import pandas as pd"
      ],
      "metadata": {
        "id": "bTHUnhsmYKXg"
      },
      "execution_count": 5,
      "outputs": []
    },
    {
      "cell_type": "code",
      "execution_count": 6,
      "metadata": {
        "id": "0s4g0ukKT7PS"
      },
      "outputs": [],
      "source": [
        "# loading the final reranked file which should query and document\n",
        "stance_df = pd.read_csv(\"/content/drive/MyDrive/Touche/duoT5-voting-reranked.csv\")"
      ]
    },
    {
      "cell_type": "code",
      "source": [
        "stance_df"
      ],
      "metadata": {
        "colab": {
          "base_uri": "https://localhost:8080/",
          "height": 423
        },
        "id": "O-1NZrn2uP3t",
        "outputId": "bab2155e-2605-4f86-d86f-4c5cd0bfae52"
      },
      "execution_count": 7,
      "outputs": [
        {
          "output_type": "execute_result",
          "data": {
            "text/plain": [
              "       title_id                                         title  \\\n",
              "0             2         Which is better a laptop or a desktop   \n",
              "1             2         Which is better a laptop or a desktop   \n",
              "2             2         Which is better a laptop or a desktop   \n",
              "3             2         Which is better a laptop or a desktop   \n",
              "4             2         Which is better a laptop or a desktop   \n",
              "...         ...                                           ...   \n",
              "49995       100  Should I learn Python or R for data analysis   \n",
              "49996       100  Should I learn Python or R for data analysis   \n",
              "49997       100  Should I learn Python or R for data analysis   \n",
              "49998       100  Should I learn Python or R for data analysis   \n",
              "49999       100  Should I learn Python or R for data analysis   \n",
              "\n",
              "                                doc_id      score  \\\n",
              "0        clueweb12-1804wb-90-15876___2  78.821897   \n",
              "1        clueweb12-0301wb-84-10147___2  85.427993   \n",
              "2        clueweb12-0907wb-60-03588___2  79.229755   \n",
              "3        clueweb12-0013wb-19-15392___6  72.569362   \n",
              "4        clueweb12-0608wb-66-03868___2  71.743426   \n",
              "...                                ...        ...   \n",
              "49995   clueweb12-0204wb-38-15941___33 -11.528502   \n",
              "49996   clueweb12-0909wb-33-12181___40 -11.529103   \n",
              "49997    clueweb12-0311wb-17-16828___2 -11.530167   \n",
              "49998  clueweb12-0001wb-56-00448___192 -11.530614   \n",
              "49999    clueweb12-0005wb-65-30420___3 -11.531073   \n",
              "\n",
              "                                                 content  \n",
              "0      Therefore hard drives in a laptop usually have...  \n",
              "1      Many times consumers may opt to have both but ...  \n",
              "2      There has been a turnaround in pricing trends ...  \n",
              "3      Keep in mind a laptop is one unit If you break...  \n",
              "4      Laptop computers are portable have the virtual...  \n",
              "...                                                  ...  \n",
              "49995  cells which cell setval ord char ord Attribute...  \n",
              "49996  Lisp has been around a long time and has watch...  \n",
              "49997  Its teaching should therefore be regarded as a...  \n",
              "49998  After that we plot these N estimates on the y ...  \n",
              "49999  No In Python variables have an aspect called s...  \n",
              "\n",
              "[50000 rows x 5 columns]"
            ],
            "text/html": [
              "\n",
              "  <div id=\"df-9bbd3543-4e12-4066-804f-89e97549fd94\">\n",
              "    <div class=\"colab-df-container\">\n",
              "      <div>\n",
              "<style scoped>\n",
              "    .dataframe tbody tr th:only-of-type {\n",
              "        vertical-align: middle;\n",
              "    }\n",
              "\n",
              "    .dataframe tbody tr th {\n",
              "        vertical-align: top;\n",
              "    }\n",
              "\n",
              "    .dataframe thead th {\n",
              "        text-align: right;\n",
              "    }\n",
              "</style>\n",
              "<table border=\"1\" class=\"dataframe\">\n",
              "  <thead>\n",
              "    <tr style=\"text-align: right;\">\n",
              "      <th></th>\n",
              "      <th>title_id</th>\n",
              "      <th>title</th>\n",
              "      <th>doc_id</th>\n",
              "      <th>score</th>\n",
              "      <th>content</th>\n",
              "    </tr>\n",
              "  </thead>\n",
              "  <tbody>\n",
              "    <tr>\n",
              "      <th>0</th>\n",
              "      <td>2</td>\n",
              "      <td>Which is better a laptop or a desktop</td>\n",
              "      <td>clueweb12-1804wb-90-15876___2</td>\n",
              "      <td>78.821897</td>\n",
              "      <td>Therefore hard drives in a laptop usually have...</td>\n",
              "    </tr>\n",
              "    <tr>\n",
              "      <th>1</th>\n",
              "      <td>2</td>\n",
              "      <td>Which is better a laptop or a desktop</td>\n",
              "      <td>clueweb12-0301wb-84-10147___2</td>\n",
              "      <td>85.427993</td>\n",
              "      <td>Many times consumers may opt to have both but ...</td>\n",
              "    </tr>\n",
              "    <tr>\n",
              "      <th>2</th>\n",
              "      <td>2</td>\n",
              "      <td>Which is better a laptop or a desktop</td>\n",
              "      <td>clueweb12-0907wb-60-03588___2</td>\n",
              "      <td>79.229755</td>\n",
              "      <td>There has been a turnaround in pricing trends ...</td>\n",
              "    </tr>\n",
              "    <tr>\n",
              "      <th>3</th>\n",
              "      <td>2</td>\n",
              "      <td>Which is better a laptop or a desktop</td>\n",
              "      <td>clueweb12-0013wb-19-15392___6</td>\n",
              "      <td>72.569362</td>\n",
              "      <td>Keep in mind a laptop is one unit If you break...</td>\n",
              "    </tr>\n",
              "    <tr>\n",
              "      <th>4</th>\n",
              "      <td>2</td>\n",
              "      <td>Which is better a laptop or a desktop</td>\n",
              "      <td>clueweb12-0608wb-66-03868___2</td>\n",
              "      <td>71.743426</td>\n",
              "      <td>Laptop computers are portable have the virtual...</td>\n",
              "    </tr>\n",
              "    <tr>\n",
              "      <th>...</th>\n",
              "      <td>...</td>\n",
              "      <td>...</td>\n",
              "      <td>...</td>\n",
              "      <td>...</td>\n",
              "      <td>...</td>\n",
              "    </tr>\n",
              "    <tr>\n",
              "      <th>49995</th>\n",
              "      <td>100</td>\n",
              "      <td>Should I learn Python or R for data analysis</td>\n",
              "      <td>clueweb12-0204wb-38-15941___33</td>\n",
              "      <td>-11.528502</td>\n",
              "      <td>cells which cell setval ord char ord Attribute...</td>\n",
              "    </tr>\n",
              "    <tr>\n",
              "      <th>49996</th>\n",
              "      <td>100</td>\n",
              "      <td>Should I learn Python or R for data analysis</td>\n",
              "      <td>clueweb12-0909wb-33-12181___40</td>\n",
              "      <td>-11.529103</td>\n",
              "      <td>Lisp has been around a long time and has watch...</td>\n",
              "    </tr>\n",
              "    <tr>\n",
              "      <th>49997</th>\n",
              "      <td>100</td>\n",
              "      <td>Should I learn Python or R for data analysis</td>\n",
              "      <td>clueweb12-0311wb-17-16828___2</td>\n",
              "      <td>-11.530167</td>\n",
              "      <td>Its teaching should therefore be regarded as a...</td>\n",
              "    </tr>\n",
              "    <tr>\n",
              "      <th>49998</th>\n",
              "      <td>100</td>\n",
              "      <td>Should I learn Python or R for data analysis</td>\n",
              "      <td>clueweb12-0001wb-56-00448___192</td>\n",
              "      <td>-11.530614</td>\n",
              "      <td>After that we plot these N estimates on the y ...</td>\n",
              "    </tr>\n",
              "    <tr>\n",
              "      <th>49999</th>\n",
              "      <td>100</td>\n",
              "      <td>Should I learn Python or R for data analysis</td>\n",
              "      <td>clueweb12-0005wb-65-30420___3</td>\n",
              "      <td>-11.531073</td>\n",
              "      <td>No In Python variables have an aspect called s...</td>\n",
              "    </tr>\n",
              "  </tbody>\n",
              "</table>\n",
              "<p>50000 rows × 5 columns</p>\n",
              "</div>\n",
              "      <button class=\"colab-df-convert\" onclick=\"convertToInteractive('df-9bbd3543-4e12-4066-804f-89e97549fd94')\"\n",
              "              title=\"Convert this dataframe to an interactive table.\"\n",
              "              style=\"display:none;\">\n",
              "        \n",
              "  <svg xmlns=\"http://www.w3.org/2000/svg\" height=\"24px\"viewBox=\"0 0 24 24\"\n",
              "       width=\"24px\">\n",
              "    <path d=\"M0 0h24v24H0V0z\" fill=\"none\"/>\n",
              "    <path d=\"M18.56 5.44l.94 2.06.94-2.06 2.06-.94-2.06-.94-.94-2.06-.94 2.06-2.06.94zm-11 1L8.5 8.5l.94-2.06 2.06-.94-2.06-.94L8.5 2.5l-.94 2.06-2.06.94zm10 10l.94 2.06.94-2.06 2.06-.94-2.06-.94-.94-2.06-.94 2.06-2.06.94z\"/><path d=\"M17.41 7.96l-1.37-1.37c-.4-.4-.92-.59-1.43-.59-.52 0-1.04.2-1.43.59L10.3 9.45l-7.72 7.72c-.78.78-.78 2.05 0 2.83L4 21.41c.39.39.9.59 1.41.59.51 0 1.02-.2 1.41-.59l7.78-7.78 2.81-2.81c.8-.78.8-2.07 0-2.86zM5.41 20L4 18.59l7.72-7.72 1.47 1.35L5.41 20z\"/>\n",
              "  </svg>\n",
              "      </button>\n",
              "      \n",
              "  <style>\n",
              "    .colab-df-container {\n",
              "      display:flex;\n",
              "      flex-wrap:wrap;\n",
              "      gap: 12px;\n",
              "    }\n",
              "\n",
              "    .colab-df-convert {\n",
              "      background-color: #E8F0FE;\n",
              "      border: none;\n",
              "      border-radius: 50%;\n",
              "      cursor: pointer;\n",
              "      display: none;\n",
              "      fill: #1967D2;\n",
              "      height: 32px;\n",
              "      padding: 0 0 0 0;\n",
              "      width: 32px;\n",
              "    }\n",
              "\n",
              "    .colab-df-convert:hover {\n",
              "      background-color: #E2EBFA;\n",
              "      box-shadow: 0px 1px 2px rgba(60, 64, 67, 0.3), 0px 1px 3px 1px rgba(60, 64, 67, 0.15);\n",
              "      fill: #174EA6;\n",
              "    }\n",
              "\n",
              "    [theme=dark] .colab-df-convert {\n",
              "      background-color: #3B4455;\n",
              "      fill: #D2E3FC;\n",
              "    }\n",
              "\n",
              "    [theme=dark] .colab-df-convert:hover {\n",
              "      background-color: #434B5C;\n",
              "      box-shadow: 0px 1px 3px 1px rgba(0, 0, 0, 0.15);\n",
              "      filter: drop-shadow(0px 1px 2px rgba(0, 0, 0, 0.3));\n",
              "      fill: #FFFFFF;\n",
              "    }\n",
              "  </style>\n",
              "\n",
              "      <script>\n",
              "        const buttonEl =\n",
              "          document.querySelector('#df-9bbd3543-4e12-4066-804f-89e97549fd94 button.colab-df-convert');\n",
              "        buttonEl.style.display =\n",
              "          google.colab.kernel.accessAllowed ? 'block' : 'none';\n",
              "\n",
              "        async function convertToInteractive(key) {\n",
              "          const element = document.querySelector('#df-9bbd3543-4e12-4066-804f-89e97549fd94');\n",
              "          const dataTable =\n",
              "            await google.colab.kernel.invokeFunction('convertToInteractive',\n",
              "                                                     [key], {});\n",
              "          if (!dataTable) return;\n",
              "\n",
              "          const docLinkHtml = 'Like what you see? Visit the ' +\n",
              "            '<a target=\"_blank\" href=https://colab.research.google.com/notebooks/data_table.ipynb>data table notebook</a>'\n",
              "            + ' to learn more about interactive tables.';\n",
              "          element.innerHTML = '';\n",
              "          dataTable['output_type'] = 'display_data';\n",
              "          await google.colab.output.renderOutput(dataTable, element);\n",
              "          const docLink = document.createElement('div');\n",
              "          docLink.innerHTML = docLinkHtml;\n",
              "          element.appendChild(docLink);\n",
              "        }\n",
              "      </script>\n",
              "    </div>\n",
              "  </div>\n",
              "  "
            ]
          },
          "metadata": {},
          "execution_count": 7
        }
      ]
    },
    {
      "cell_type": "code",
      "source": [
        "device = torch.device('cuda' if torch.cuda.is_available() else 'cpu')\n",
        "print(f'Using device \"{device}\"')"
      ],
      "metadata": {
        "colab": {
          "base_uri": "https://localhost:8080/"
        },
        "id": "NImoN65IZsQ6",
        "outputId": "f8ceeae6-7cad-4594-f7ee-5f015725e60e"
      },
      "execution_count": 8,
      "outputs": [
        {
          "output_type": "stream",
          "name": "stdout",
          "text": [
            "Using device \"cuda\"\n"
          ]
        }
      ]
    },
    {
      "cell_type": "code",
      "source": [
        "# model output 1: for object/neutral_no separator model.\n",
        "# it separates first and second model from the neutral/no stance\n",
        "def object_separator(evidence, claim, tokenizer, model):\n",
        "    model.eval()\n",
        "    def encode(claim, rationale):\n",
        "        encoding = tokenizer(claim, rationale, padding=True, truncation=True, max_length=512, return_tensors=\"pt\")\n",
        "        input_ids = encoding['input_ids']\n",
        "        attention_mask = encoding['attention_mask']\n",
        "        return input_ids, attention_mask\n",
        "\n",
        "    def predict(model, evidence, claim):\n",
        "        with torch.no_grad():\n",
        "            input_ids, attention_mask = encode(claim, evidence)\n",
        "            logits = model(input_ids.to(device)).logits\n",
        "            output = logits.argmax(dim=1).tolist()[0]\n",
        "        return output\n",
        "\n",
        "\n",
        "    return predict(model, evidence, claim)"
      ],
      "metadata": {
        "id": "yV9vqrloYKa-"
      },
      "execution_count": 9,
      "outputs": []
    },
    {
      "cell_type": "code",
      "source": [
        "# model output 1: for object/neutral_no detector model.\n",
        "# it predicts first and second models as outputs.\n",
        "def object_detector(evidence, claim, tokenizer, model):\n",
        "    model.eval()\n",
        "    def encode(claim, rationale):\n",
        "        encoding = tokenizer(claim, rationale, padding=True, truncation=True, max_length=512, return_tensors=\"pt\")\n",
        "        input_ids = encoding['input_ids']\n",
        "        attention_mask = encoding['attention_mask']\n",
        "        return input_ids, attention_mask\n",
        "\n",
        "    def predict(model, evidence, claim):\n",
        "        with torch.no_grad():\n",
        "            input_ids, attention_mask = encode(claim, evidence)\n",
        "            logits = model(input_ids.to(device)).logits\n",
        "            output = logits.argmax(dim=1).tolist()[0]\n",
        "        return output\n",
        "\n",
        "    return predict(model, evidence, claim)"
      ],
      "metadata": {
        "id": "o_U1QAyGYKdL"
      },
      "execution_count": 10,
      "outputs": []
    },
    {
      "cell_type": "code",
      "source": [
        "# this function has the logic for converting prediction numbers to labels.\n",
        "\n",
        "def detect(evidence, claim, tokenizer_n, model_n, tokenizer_e, model_e):\n",
        "  # first step\n",
        "  # predicting neutral or not\n",
        "  first = object_separator(evidence, claim, tokenizer_n, model_n)\n",
        "  final=1\n",
        "  if first == 1:\n",
        "      final = 1\n",
        "  elif first == 0:\n",
        "      final = 0\n",
        "  else:\n",
        "      #predicting support or not\n",
        "      second = object_detector(evidence, claim, tokenizer_e, model_e)\n",
        "      if second == 0:\n",
        "          final = 2\n",
        "      elif second == 1:\n",
        "          final = 3\n",
        "  return final"
      ],
      "metadata": {
        "id": "ZoqCSFQ4YKfZ"
      },
      "execution_count": 11,
      "outputs": []
    },
    {
      "cell_type": "code",
      "source": [
        "# loading pretrained models into the 'n' and 's' two-step models.\n",
        "model_n_path = \"/content/drive/MyDrive/Touche/first_model_classifier-epoch-17-f1-5888\"\n",
        "tokenizer_n = AutoTokenizer.from_pretrained(model_n_path)\n",
        "config_n = AutoConfig.from_pretrained(model_n_path, num_labels=3)\n",
        "model_n = AutoModelForSequenceClassification.from_pretrained(model_n_path, config=config_n).to(device)\n",
        "\n",
        "model_s_path = \"/content/drive/MyDrive/Touche/OBJECT1_OBJECT2-CLASSIFIER\"\n",
        "\n",
        "tokenizer_s = AutoTokenizer.from_pretrained(model_s_path)\n",
        "config_s = AutoConfig.from_pretrained(model_s_path, num_labels=3)\n",
        "model_s = AutoModelForSequenceClassification.from_pretrained(model_s_path, config=config_s).to(device)"
      ],
      "metadata": {
        "id": "beLn5VN_YKhg"
      },
      "execution_count": 12,
      "outputs": []
    },
    {
      "cell_type": "code",
      "source": [
        "# for conversion in below code\n",
        "LABELS = ['NO', 'NEUTRAL', 'FIRST', 'SECOND']"
      ],
      "metadata": {
        "id": "v6NPoQI-YKj0"
      },
      "execution_count": 13,
      "outputs": []
    },
    {
      "cell_type": "code",
      "source": [
        "import csv\n",
        "method = ['levirank_baseline', 'levirank_dense_initial_retrieval', 'levirank_dense_vote_initial_retrieval','levirank_psuedo_relevance_feedback',\n",
        "          'levirank_voting_retrieval','levirank_psuedo_relevance_feedback_and_voting_retrieval']\n"
      ],
      "metadata": {
        "id": "6fv-2q0Vywho"
      },
      "execution_count": 14,
      "outputs": []
    },
    {
      "cell_type": "code",
      "source": [
        "stance_df.columns"
      ],
      "metadata": {
        "colab": {
          "base_uri": "https://localhost:8080/"
        },
        "id": "Q9w9MUpte_GO",
        "outputId": "36108572-6b4e-45e0-c384-ed9efb0aec02"
      },
      "execution_count": 15,
      "outputs": [
        {
          "output_type": "execute_result",
          "data": {
            "text/plain": [
              "Index(['title_id', 'title', 'doc_id', 'score', 'content'], dtype='object')"
            ]
          },
          "metadata": {},
          "execution_count": 15
        }
      ]
    },
    {
      "cell_type": "code",
      "source": [
        "# stance prediction and output writing code.\n",
        "data = []\n",
        "for title in tqdm(stance_df[\"title\"].unique()):\n",
        "  passages=stance_df.loc[stance_df[\"title\"]==title].sort_values(by=\"score\",ascending=False).iloc[0:750,:]\n",
        "  rank=1\n",
        "  for qid_,did_, q_, d_, s_ in list(zip(passages['title_id'], passages['doc_id'],passages['title'], passages['content'],passages['score'])):\n",
        "      label_index = detect(d_, q_, tokenizer_n, model_n, tokenizer_s, model_s)\n",
        "      label = LABELS[label_index]\n",
        "      # print('query :'+ q_)\n",
        "      # print('document :'+ d_)\n",
        "      # print(label)\n",
        "      # print('\\n')\n",
        "      row = [qid_, label, did_, rank, s_, method[4]] #change here the method used for the model\n",
        "      data.append(row)\n",
        "      rank=rank+1"
      ],
      "metadata": {
        "id": "WCphLU6cYKpb",
        "colab": {
          "base_uri": "https://localhost:8080/"
        },
        "outputId": "276ca843-2012-4315-d1e5-417573557dc9"
      },
      "execution_count": 17,
      "outputs": [
        {
          "output_type": "stream",
          "name": "stderr",
          "text": [
            "100%|██████████| 50/50 [2:31:37<00:00, 181.95s/it]\n"
          ]
        }
      ]
    },
    {
      "cell_type": "code",
      "source": [
        "data"
      ],
      "metadata": {
        "id": "zhHyjmVWhBsT"
      },
      "execution_count": null,
      "outputs": []
    },
    {
      "cell_type": "code",
      "source": [
        "with open('/content/drive/MyDrive/Touche/captain_levi__voting_run_2022.csv', 'w', encoding='UTF8', newline='') as f:\n",
        "    writer = csv.writer(f)\n",
        "\n",
        "    # write multiple rows\n",
        "    writer.writerows(data)"
      ],
      "metadata": {
        "id": "ATt0xr3Pg3ki"
      },
      "execution_count": 18,
      "outputs": []
    },
    {
      "cell_type": "code",
      "source": [
        "csv_file = r'/content/drive/MyDrive/Touche/captain_levi__voting_run_2022.csv'\n",
        "txt_file = r'/content/drive/MyDrive/Touche/captain_levi__voting_run_2022.txt'\n",
        "with open(txt_file, \"w\") as my_output_file:\n",
        "    with open(csv_file, \"r\") as my_input_file:\n",
        "        [ my_output_file.write(\" \".join(row)+'\\n') for row in csv.reader(my_input_file)]\n",
        "    my_output_file.close()"
      ],
      "metadata": {
        "id": "jQlan9ZPW9uw"
      },
      "execution_count": 19,
      "outputs": []
    }
  ]
}